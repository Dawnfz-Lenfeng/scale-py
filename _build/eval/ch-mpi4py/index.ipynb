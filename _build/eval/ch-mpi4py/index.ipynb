{
 "cells": [
  {
   "cell_type": "markdown",
   "id": "ac8a379f",
   "metadata": {
    "origin_pos": 0
   },
   "source": [
    "mpi4py\n",
    "------------\n",
    "\n",
    "```toc\n",
    ":maxdepth: 2\n",
    "\n",
    "mpi-intro\n",
    "```\n"
   ]
  }
 ],
 "metadata": {
  "language_info": {
   "name": "python"
  },
  "required_libs": []
 },
 "nbformat": 4,
 "nbformat_minor": 5
}
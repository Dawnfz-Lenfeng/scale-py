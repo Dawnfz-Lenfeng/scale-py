{
 "cells": [
  {
   "cell_type": "markdown",
   "id": "088a3227",
   "metadata": {
    "origin_pos": 0
   },
   "source": [
    "# MPI\n",
    ":label:`mpi`\n",
    "\n",
    "MPI（Message Passing Interface）是高性能计算领域分布式计算的标准，被广泛应用在科学和工程计算领域，例如气象模拟、计算流体动力学、分子动力学、量子化学等。全世界顶级的超级计算机上运行着大量 MPI 编写的应用。而近期，深度学习和大模型训练更是依赖 MPI 进行多机并行。\n"
   ]
  }
 ],
 "metadata": {
  "language_info": {
   "name": "python"
  },
  "required_libs": []
 },
 "nbformat": 4,
 "nbformat_minor": 5
}
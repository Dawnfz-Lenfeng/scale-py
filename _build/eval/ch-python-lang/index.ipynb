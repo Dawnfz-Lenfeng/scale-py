{
 "cells": [
  {
   "cell_type": "markdown",
   "id": "1cafab70",
   "metadata": {},
   "source": [
    "## Python 编程语言\n",
    "\n",
    "```toc\n",
    ":maxdepth: 2\n",
    "\n",
    "python\n",
    "data-science\n",
    "why-slow\n",
    "outline\n",
    "summary\n",
    "```"
   ]
  }
 ],
 "metadata": {
  "language_info": {
   "name": "python"
  }
 },
 "nbformat": 4,
 "nbformat_minor": 5
}
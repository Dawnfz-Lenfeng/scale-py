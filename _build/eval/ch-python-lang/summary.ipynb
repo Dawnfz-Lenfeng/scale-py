{
 "cells": [
  {
   "cell_type": "markdown",
   "id": "cb18a366",
   "metadata": {},
   "source": [
    "## 本章小结"
   ]
  }
 ],
 "metadata": {
  "language_info": {
   "name": "python"
  }
 },
 "nbformat": 4,
 "nbformat_minor": 5
}
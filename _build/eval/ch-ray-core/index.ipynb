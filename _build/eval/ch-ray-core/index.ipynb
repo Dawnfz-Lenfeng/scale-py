{
 "cells": [
  {
   "cell_type": "markdown",
   "id": "b4e4c0c6",
   "metadata": {
    "origin_pos": 0
   },
   "source": [
    "Ray\n",
    "------------\n",
    "\n",
    "```toc\n",
    ":maxdepth: 2\n",
    "\n",
    "ray-intro\n",
    "remote-function\n",
    "remote-object\n",
    "remote-class\n",
    "ray-internal\n",
    "```\n"
   ]
  }
 ],
 "metadata": {
  "language_info": {
   "name": "python"
  },
  "required_libs": []
 },
 "nbformat": 4,
 "nbformat_minor": 5
}
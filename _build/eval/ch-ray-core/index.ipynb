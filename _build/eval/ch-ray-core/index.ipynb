{
 "cells": [
  {
   "cell_type": "markdown",
   "id": "77e3a16b",
   "metadata": {
    "origin_pos": 0
   },
   "source": [
    "Ray Core 简介\n",
    "------------\n",
    "\n",
    "Ray 可以将 Python 函数或者类等计算任务横向扩展到多个计算节点上，所有的 Python 计算任务是异步执行的。Ray 一共提供了两个计算接口和一个数据接口，如 :numref:`ray-core-apis` 所示。\n",
    "\n",
    "* 任务（Task）：面向函数（Function）的接口，用于定义一个函数，该函数可以在集群中分布式地执行。\n",
    "* 行动者（Actor）：面向类（Class）的接口，用于定义一个类，该类可以在集群中分布式地执行。\n",
    "* 对象（Object）：分布式的对象，对象不可变（Immutable），用于在 Task 和 Actor 之间传递数据。\n",
    "\n",
    "![Ray Core 核心API](../img/ch-ray-core/ray-apis.png)\n",
    ":width:`800px`\n",
    ":label:`ray-core-apis`\n",
    "\n",
    "```toc\n",
    ":maxdepth: 2\n",
    "\n",
    "remote-function\n",
    "remote-object\n",
    "remote-class\n",
    "```\n"
   ]
  }
 ],
 "metadata": {
  "language_info": {
   "name": "python"
  },
  "required_libs": []
 },
 "nbformat": 4,
 "nbformat_minor": 5
}
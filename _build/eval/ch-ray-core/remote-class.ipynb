{
 "cells": [
  {
   "cell_type": "markdown",
   "id": "0dbf8b97",
   "metadata": {
    "origin_pos": 0
   },
   "source": [
    "# 分布式类\n",
    ":label:`remote-class`\n",
    "\n",
    ":numref:`remote-function` 展示了如何将一个无状态的函数扩展到 Ray 集群上进行分布式计算，但实际的场景中，我们经常需要进行有状态的计算。最简单的有状态计算包括维护一个计数器，每遇到某种条件，计数器加一。这类有状态的计算对于给定的输入，不一定得到确定的输出。单机场景我们可以使用 Python 的类（Class）来实现，计数器可作为类的成员变量。Ray 可以将 Python 类拓展到集群上，即远程类（Remote Class），又被称为行动者（Actor）。Actor 的名字来自 Actor 编程模型 :cite:`hewitt1973Universal`，这是一个典型的分布式计算编程模型，被广泛应用在大数据和人工智能领域，但 Actor 编程模型比较抽象，我们先从计数器的案例来入手。\n",
    "\n",
    "### 案例1：分布式计数器\n"
   ]
  },
  {
   "cell_type": "code",
   "execution_count": 1,
   "id": "c158da7a",
   "metadata": {
    "execution": {
     "iopub.execute_input": "2023-08-14T10:28:19.639823Z",
     "iopub.status.busy": "2023-08-14T10:28:19.639437Z",
     "iopub.status.idle": "2023-08-14T10:28:26.747308Z",
     "shell.execute_reply": "2023-08-14T10:28:26.745809Z"
    },
    "origin_pos": 1,
    "tab": [
     "ray"
    ]
   },
   "outputs": [
    {
     "data": {
      "text/html": [
       "<div>\n",
       "    <div style=\"margin-left: 50px;display: flex;flex-direction: row;align-items: center\">\n",
       "        <h3 style=\"color: var(--jp-ui-font-color0)\">Ray</h3>\n",
       "        <svg version=\"1.1\" id=\"ray\" width=\"3em\" viewBox=\"0 0 144.5 144.6\" style=\"margin-left: 3em;margin-right: 3em\">\n",
       "            <g id=\"layer-1\">\n",
       "                <path fill=\"#00a2e9\" class=\"st0\" d=\"M97.3,77.2c-3.8-1.1-6.2,0.9-8.3,5.1c-3.5,6.8-9.9,9.9-17.4,9.6S58,88.1,54.8,81.2c-1.4-3-3-4-6.3-4.1\n",
       "                    c-5.6-0.1-9.9,0.1-13.1,6.4c-3.8,7.6-13.6,10.2-21.8,7.6C5.2,88.4-0.4,80.5,0,71.7c0.1-8.4,5.7-15.8,13.8-18.2\n",
       "                    c8.4-2.6,17.5,0.7,22.3,8c1.3,1.9,1.3,5.2,3.6,5.6c3.9,0.6,8,0.2,12,0.2c1.8,0,1.9-1.6,2.4-2.8c3.5-7.8,9.7-11.8,18-11.9\n",
       "                    c8.2-0.1,14.4,3.9,17.8,11.4c1.3,2.8,2.9,3.6,5.7,3.3c1-0.1,2,0.1,3,0c2.8-0.5,6.4,1.7,8.1-2.7s-2.3-5.5-4.1-7.5\n",
       "                    c-5.1-5.7-10.9-10.8-16.1-16.3C84,38,81.9,37.1,78,38.3C66.7,42,56.2,35.7,53,24.1C50.3,14,57.3,2.8,67.7,0.5\n",
       "                    C78.4-2,89,4.7,91.5,15.3c0.1,0.3,0.1,0.5,0.2,0.8c0.7,3.4,0.7,6.9-0.8,9.8c-1.7,3.2-0.8,5,1.5,7.2c6.7,6.5,13.3,13,19.8,19.7\n",
       "                    c1.8,1.8,3,2.1,5.5,1.2c9.1-3.4,17.9-0.6,23.4,7c4.8,6.9,4.6,16.1-0.4,22.9c-5.4,7.2-14.2,9.9-23.1,6.5c-2.3-0.9-3.5-0.6-5.1,1.1\n",
       "                    c-6.7,6.9-13.6,13.7-20.5,20.4c-1.8,1.8-2.5,3.2-1.4,5.9c3.5,8.7,0.3,18.6-7.7,23.6c-7.9,5-18.2,3.8-24.8-2.9\n",
       "                    c-6.4-6.4-7.4-16.2-2.5-24.3c4.9-7.8,14.5-11,23.1-7.8c3,1.1,4.7,0.5,6.9-1.7C91.7,98.4,98,92.3,104.2,86c1.6-1.6,4.1-2.7,2.6-6.2\n",
       "                    c-1.4-3.3-3.8-2.5-6.2-2.6C99.8,77.2,98.9,77.2,97.3,77.2z M72.1,29.7c5.5,0.1,9.9-4.3,10-9.8c0-0.1,0-0.2,0-0.3\n",
       "                    C81.8,14,77,9.8,71.5,10.2c-5,0.3-9,4.2-9.3,9.2c-0.2,5.5,4,10.1,9.5,10.3C71.8,29.7,72,29.7,72.1,29.7z M72.3,62.3\n",
       "                    c-5.4-0.1-9.9,4.2-10.1,9.7c0,0.2,0,0.3,0,0.5c0.2,5.4,4.5,9.7,9.9,10c5.1,0.1,9.9-4.7,10.1-9.8c0.2-5.5-4-10-9.5-10.3\n",
       "                    C72.6,62.3,72.4,62.3,72.3,62.3z M115,72.5c0.1,5.4,4.5,9.7,9.8,9.9c5.6-0.2,10-4.8,10-10.4c-0.2-5.4-4.6-9.7-10-9.7\n",
       "                    c-5.3-0.1-9.8,4.2-9.9,9.5C115,72.1,115,72.3,115,72.5z M19.5,62.3c-5.4,0.1-9.8,4.4-10,9.8c-0.1,5.1,5.2,10.4,10.2,10.3\n",
       "                    c5.6-0.2,10-4.9,9.8-10.5c-0.1-5.4-4.5-9.7-9.9-9.6C19.6,62.3,19.5,62.3,19.5,62.3z M71.8,134.6c5.9,0.2,10.3-3.9,10.4-9.6\n",
       "                    c0.5-5.5-3.6-10.4-9.1-10.8c-5.5-0.5-10.4,3.6-10.8,9.1c0,0.5,0,0.9,0,1.4c-0.2,5.3,4,9.8,9.3,10\n",
       "                    C71.6,134.6,71.7,134.6,71.8,134.6z\"/>\n",
       "            </g>\n",
       "        </svg>\n",
       "        <table>\n",
       "            <tr>\n",
       "                <td style=\"text-align: left\"><b>Python version:</b></td>\n",
       "                <td style=\"text-align: left\"><b>3.10.9</b></td>\n",
       "            </tr>\n",
       "            <tr>\n",
       "                <td style=\"text-align: left\"><b>Ray version:</b></td>\n",
       "                <td style=\"text-align: left\"><b> 2.3.0</b></td>\n",
       "            </tr>\n",
       "            <tr>\n",
       "    <td style=\"text-align: left\"><b>Dashboard:</b></td>\n",
       "    <td style=\"text-align: left\"><b><a href=\"http://127.0.0.1:8265\" target=\"_blank\">http://127.0.0.1:8265</a></b></td>\n",
       "</tr>\n",
       "\n",
       "        </table>\n",
       "    </div>\n",
       "</div>\n"
      ],
      "text/plain": [
       "RayContext(dashboard_url='127.0.0.1:8265', python_version='3.10.9', ray_version='2.3.0', ray_commit='cf7a56b4b0b648c324722df7c99c168e92ff0b45', address_info={'node_ip_address': '127.0.0.1', 'raylet_ip_address': '127.0.0.1', 'redis_address': None, 'object_store_address': '/tmp/ray/session_2023-08-14_18-28-20_480093_70628/sockets/plasma_store', 'raylet_socket_name': '/tmp/ray/session_2023-08-14_18-28-20_480093_70628/sockets/raylet', 'webui_url': '127.0.0.1:8265', 'session_dir': '/tmp/ray/session_2023-08-14_18-28-20_480093_70628', 'metrics_export_port': 63094, 'gcs_address': '127.0.0.1:60468', 'address': '127.0.0.1:60468', 'dashboard_agent_listen_port': 52365, 'node_id': '339b084a17c0873b8e0e26093ffbc9de23ebe4a449085196aa585893'})"
      ]
     },
     "execution_count": 1,
     "metadata": {},
     "output_type": "execute_result"
    }
   ],
   "source": [
    "# Hide code\n",
    "# Hide outputs\n",
    "import logging\n",
    "from typing import Dict, List, Tuple\n",
    "import ray\n",
    "\n",
    "if ray.is_initialized:\n",
    "    ray.shutdown()\n",
    "ray.init(logging_level=logging.ERROR)"
   ]
  },
  {
   "cell_type": "markdown",
   "id": "ca5c24ca",
   "metadata": {
    "origin_pos": 2
   },
   "source": [
    "Ray 的 Remote Class 也使用 `ray.remote()` 来装饰。\n"
   ]
  },
  {
   "cell_type": "code",
   "execution_count": 2,
   "id": "fc16472e",
   "metadata": {
    "execution": {
     "iopub.execute_input": "2023-08-14T10:28:26.798161Z",
     "iopub.status.busy": "2023-08-14T10:28:26.796992Z",
     "iopub.status.idle": "2023-08-14T10:28:26.805691Z",
     "shell.execute_reply": "2023-08-14T10:28:26.804816Z"
    },
    "origin_pos": 3,
    "tab": [
     "ray"
    ]
   },
   "outputs": [],
   "source": [
    "@ray.remote\n",
    "class Counter:\n",
    "    def __init__(self):\n",
    "        self.value = 0\n",
    "\n",
    "    def increment(self):\n",
    "        self.value += 1\n",
    "        return self.value\n",
    "\n",
    "    def get_counter(self):\n",
    "        return self.value"
   ]
  },
  {
   "cell_type": "markdown",
   "id": "fd0e3c9e",
   "metadata": {
    "origin_pos": 4
   },
   "source": [
    "使用 Ray 创建一个类名为 `Counter` 的 Remote Class，需要在类名 `Counter` 后面加上 `remote()`。这样创建的类就是一个分布式的 Actor。\n"
   ]
  },
  {
   "cell_type": "code",
   "execution_count": 3,
   "id": "d3231f57",
   "metadata": {
    "execution": {
     "iopub.execute_input": "2023-08-14T10:28:26.809551Z",
     "iopub.status.busy": "2023-08-14T10:28:26.809194Z",
     "iopub.status.idle": "2023-08-14T10:28:26.825195Z",
     "shell.execute_reply": "2023-08-14T10:28:26.824337Z"
    },
    "origin_pos": 5,
    "tab": [
     "ray"
    ]
   },
   "outputs": [],
   "source": [
    "counter = Counter.remote()"
   ]
  },
  {
   "cell_type": "markdown",
   "id": "05e34058",
   "metadata": {
    "origin_pos": 6
   },
   "source": [
    "接下来我们要使用 `Counter` 类的计数功能：`increment()` 函数，我们也要在函数后面添加 `remote()` ，即 `对象实例.函数名.remote()`。\n"
   ]
  },
  {
   "cell_type": "code",
   "execution_count": 4,
   "id": "1d627911",
   "metadata": {
    "execution": {
     "iopub.execute_input": "2023-08-14T10:28:26.828944Z",
     "iopub.status.busy": "2023-08-14T10:28:26.828621Z",
     "iopub.status.idle": "2023-08-14T10:28:29.538369Z",
     "shell.execute_reply": "2023-08-14T10:28:29.537343Z"
    },
    "origin_pos": 7,
    "tab": [
     "ray"
    ]
   },
   "outputs": [
    {
     "name": "stdout",
     "output_type": "stream",
     "text": [
      "1\n"
     ]
    }
   ],
   "source": [
    "obj_ref = counter.increment.remote()\n",
    "print(ray.get(obj_ref))"
   ]
  },
  {
   "cell_type": "markdown",
   "id": "cb986d67",
   "metadata": {
    "origin_pos": 8
   },
   "source": [
    "我们可以用同一个类创建不同的 Actor 实例，不同 Actor 之间的成员函数调用可以被并行化执行，但同一个 Actor 的成员函数调用是顺序执行的。\n"
   ]
  },
  {
   "cell_type": "code",
   "execution_count": 5,
   "id": "332d3cd3",
   "metadata": {
    "execution": {
     "iopub.execute_input": "2023-08-14T10:28:29.543247Z",
     "iopub.status.busy": "2023-08-14T10:28:29.542664Z",
     "iopub.status.idle": "2023-08-14T10:28:35.505728Z",
     "shell.execute_reply": "2023-08-14T10:28:35.505082Z"
    },
    "origin_pos": 9,
    "tab": [
     "ray"
    ]
   },
   "outputs": [
    {
     "name": "stdout",
     "output_type": "stream",
     "text": [
      "[1, 1, 1, 1, 1, 1, 1, 1, 1, 1]\n"
     ]
    }
   ],
   "source": [
    "# 创建 10 个 Actor 实例\n",
    "counters = [Counter.remote() for _ in range(10)]\n",
    "\n",
    "# 对每个 Actor 进行 increment 操作\n",
    "# 这些操作可以分布式执行\n",
    "results = ray.get([c.increment.remote() for c in counters])\n",
    "print(results)"
   ]
  },
  {
   "cell_type": "markdown",
   "id": "5a0afba3",
   "metadata": {
    "origin_pos": 10
   },
   "source": [
    "同一个 Actor 实例是互相共享状态的，所谓共享状态是指，Actor 可能被分布式地调度，无论调度到哪个计算节点，对 Actor 实例的任何操作都像对单机 Python 类和实例的操作一样，对象实例的成员变量的数据是可被访问、修改以及实时更新的。\n"
   ]
  },
  {
   "cell_type": "code",
   "execution_count": 6,
   "id": "9c8fa1d9",
   "metadata": {
    "execution": {
     "iopub.execute_input": "2023-08-14T10:28:35.509211Z",
     "iopub.status.busy": "2023-08-14T10:28:35.508941Z",
     "iopub.status.idle": "2023-08-14T10:28:35.514698Z",
     "shell.execute_reply": "2023-08-14T10:28:35.514060Z"
    },
    "origin_pos": 11,
    "tab": [
     "ray"
    ]
   },
   "outputs": [
    {
     "name": "stdout",
     "output_type": "stream",
     "text": [
      "[2, 3, 4, 5, 6]\n"
     ]
    }
   ],
   "source": [
    "# 对第一个 Actor 进行5次 increment 操作\n",
    "# 这5次 increment 操作是顺序执行的，5次操作共享状态数据 value\n",
    "results = ray.get([counters[0].increment.remote() for _ in range(5)])\n",
    "print(results)"
   ]
  },
  {
   "cell_type": "markdown",
   "id": "10931c80",
   "metadata": {
    "origin_pos": 12
   },
   "source": [
    "### Actor 编程模型\n",
    "\n",
    "Actor 编程模型是一种分布式编程的范式，每门编程语言或框架有自己的实现。Actor 编程模型的基本要素是 Actor 实例，即每个 Actor 对象都是唯一的。我们可以把单个 Actor 实例理解成单个带地址信息的进程。每个 Actor 都拥有地址信息，我们就可以从别的 Actor 向这个 Actor 发送信息，就像我们通过手机号或电子邮件地址互相发送信息一样。一个 Actor 可以有一个地址，也可以有多个地址，多个 Actor 可以共享同一个地址，拥有多少个地址主要取决于我们想以怎样的方式收发数据。多个 Actor 共享同一个地址，就像公司里有一个群组邮箱，群组包含了多个人，有个对外的公共的地址，向这个群组发邮件，群组中的每个人都可以收到消息。\n",
    "\n",
    "拥有地址和内存空间，Actor 可以做以下事情：\n",
    "\n",
    "* 存储数据，比如状态数据\n",
    "* 从别的 Actor 接收消息\n",
    "* 向别的 Actor 接收消息\n",
    "* 创建新的 Actor\n",
    "\n",
    "Actor 存储的状态数据只能由 Actor 自己来管理，不能被其他 Actor 修改。这有点像面向对象编程语言中类的实例，如果想修改实例的数据，一般通过实例的成员函数。如果我们想修改 Actor 里面存储的状态数据，应该向 Actor 发送消息，Actor 接收到消息，并基于自己存储的数据，做出决策：决定修改状态数据，或者再向其他 Actor 发送消息。比如，刚才的计数器案例中，Actor 收到 `increment()` 的消息，并根据自己存储的状态，做自增操作。\n",
    "\n",
    "为了保证 Actor 编程模型分布式环境下状态的一致性，对同一个 Actor 多次发送同样请求，多次请求是顺序执行的。就像计数器案例中，对同一个 Actor 进行5次 `increment()` 操作，这5次操作是顺序执行的。\n",
    "\n",
    "Actor 编程模型是消息驱动的，给某个 Actor 发送消息，它就会对该消息进行响应，修改自身的状态或者继续给其他 Actor 发送消息。Actor 编程模型不需要显式地在多个进程之间同步数据，因此也没有锁的问题以及同步等待的时间。Actor 编程模型可被用于大量异步操作的场景。\n",
    "\n",
    "### 案例2：排行榜\n",
    "\n",
    "接下来我们基于 Actor 实现一个更加复杂的案例：成绩排行榜。这个排行榜的状态是一个键值对，名为 `self.board`，键是名字（`name`），是一个 `str` 类型，值是分数（`score`），是一个 `float` 类型。\n"
   ]
  },
  {
   "cell_type": "code",
   "execution_count": 7,
   "id": "c731c869",
   "metadata": {
    "execution": {
     "iopub.execute_input": "2023-08-14T10:28:35.518053Z",
     "iopub.status.busy": "2023-08-14T10:28:35.517783Z",
     "iopub.status.idle": "2023-08-14T10:28:35.525393Z",
     "shell.execute_reply": "2023-08-14T10:28:35.524639Z"
    },
    "origin_pos": 13,
    "tab": [
     "ray"
    ]
   },
   "outputs": [],
   "source": [
    "@ray.remote\n",
    "class Ranking:\n",
    "    def __init__(self, minimal_score: float = 60.0):\n",
    "        self.minimal = minimal_score\n",
    "        self.board = dict()\n",
    "\n",
    "    def add(self, name: str, score: float) -> Dict[str, float]:\n",
    "        try:\n",
    "            score = float(score)\n",
    "            if score < self.minimal:\n",
    "                return\n",
    "            if name in self.board:\n",
    "                self.board[name] = max(score, self.board[name])\n",
    "            else:\n",
    "                self.board[name] = score\n",
    "            self.board = dict(sorted(self.board.items(), key=lambda item: item[1]))\n",
    "            return self.board\n",
    "        except Exception as e:\n",
    "            print(f\"The data type of score should be float but we receive {type(score)}.\")\n",
    "            return self.board\n",
    "\n",
    "    def top(self, n: int = 1) -> List[Tuple[str, float]]:\n",
    "        n = min(n, len(self.board))\n",
    "        results = list(self.board.items())[:n]\n",
    "        return results\n",
    "\n",
    "    def pop(self) -> Dict[str, float]:\n",
    "        if len(self.board) <= 0:\n",
    "            raise Exception(\"The board is empty.\")\n",
    "        else:\n",
    "            _, _ = self.board.popitem()\n",
    "        return self.board"
   ]
  },
  {
   "cell_type": "markdown",
   "id": "20d46cc5",
   "metadata": {
    "origin_pos": 14
   },
   "source": [
    "在这个排行榜的例子中，一共三个函数：\n",
    "\n",
    "* `__init__()` ：构造器。\n",
    "* `add()`：添加一条新记录，同时对输入进行解析，如果 `score` 不能转换成 `float` 会抛出异常；并对已有记录排序。\n",
    "* `pop()`：删除最大值的那条记录，如果 `self.board` 为空，会抛出异常。\n",
    "\n",
    "使用 `.remote()` 函数来创建这个 Remote Class 对应的 Actor 实例。\n"
   ]
  },
  {
   "cell_type": "code",
   "execution_count": 8,
   "id": "2be74150",
   "metadata": {
    "execution": {
     "iopub.execute_input": "2023-08-14T10:28:35.529318Z",
     "iopub.status.busy": "2023-08-14T10:28:35.528613Z",
     "iopub.status.idle": "2023-08-14T10:28:35.538228Z",
     "shell.execute_reply": "2023-08-14T10:28:35.537334Z"
    },
    "origin_pos": 15,
    "tab": [
     "ray"
    ]
   },
   "outputs": [],
   "source": [
    "# 创建排行榜\n",
    "ranking = Ranking.remote()"
   ]
  },
  {
   "cell_type": "markdown",
   "id": "6fcf665e",
   "metadata": {
    "origin_pos": 16
   },
   "source": [
    "这里的 `ranking` 是一个 Actor 的引用（Actor Handle），有点像 `ObjectRef`，我们用 `ranking` 这个 Actor Handle 来管理这个 Actor。一旦 Actor Handle 被销毁，对应的 Actor 以及其状态也被销毁。\n",
    "\n",
    "我们可以创建多个 Actor 实例，每个实例管理自己的状态。还可以用 `ActorClass.options` 给这些 Actor 实例设置一些选项，起名字，设置 CPU、GPU 计算资源等。\n"
   ]
  },
  {
   "cell_type": "code",
   "execution_count": 9,
   "id": "86976b73",
   "metadata": {
    "execution": {
     "iopub.execute_input": "2023-08-14T10:28:35.542515Z",
     "iopub.status.busy": "2023-08-14T10:28:35.542189Z",
     "iopub.status.idle": "2023-08-14T10:28:35.554633Z",
     "shell.execute_reply": "2023-08-14T10:28:35.553236Z"
    },
    "origin_pos": 17,
    "tab": [
     "ray"
    ]
   },
   "outputs": [],
   "source": [
    "# 创建一个数学排行榜 math_ranking\n",
    "# 它与刚创建的 ranking 相互独立\n",
    "math_ranking = Ranking.remote(minimal_score=80)\n",
    "\n",
    "# 创建一个化学排行榜 chem_ranking\n",
    "# 并且有一个名字\n",
    "chem_ranking = Ranking.options(name=\"Chemistry\").remote()"
   ]
  },
  {
   "cell_type": "markdown",
   "id": "2d7d9844",
   "metadata": {
    "origin_pos": 18
   },
   "source": [
    "有了名字之后，就可以通过 `ray.get_actor()` 来获取 Actor Handle，\n"
   ]
  },
  {
   "cell_type": "code",
   "execution_count": 10,
   "id": "77a7e13d",
   "metadata": {
    "execution": {
     "iopub.execute_input": "2023-08-14T10:28:35.559274Z",
     "iopub.status.busy": "2023-08-14T10:28:35.558935Z",
     "iopub.status.idle": "2023-08-14T10:28:35.566079Z",
     "shell.execute_reply": "2023-08-14T10:28:35.564888Z"
    },
    "origin_pos": 19,
    "tab": [
     "ray"
    ]
   },
   "outputs": [],
   "source": [
    "# 获取名为 Chemistry 的 Actor Handle\n",
    "cr = ray.get_actor(\"Chemistry\")"
   ]
  },
  {
   "cell_type": "markdown",
   "id": "25fad3b7",
   "metadata": {
    "origin_pos": 20
   },
   "source": [
    "向 `ranking` 排行榜内添加新记录，即调用 `add()` 函数。调用类成员函数，都要记得加上 `.remote()` ，否则会报错。\n"
   ]
  },
  {
   "cell_type": "code",
   "execution_count": 11,
   "id": "9f4331f8",
   "metadata": {
    "execution": {
     "iopub.execute_input": "2023-08-14T10:28:35.571587Z",
     "iopub.status.busy": "2023-08-14T10:28:35.571008Z",
     "iopub.status.idle": "2023-08-14T10:28:36.512335Z",
     "shell.execute_reply": "2023-08-14T10:28:36.511112Z"
    },
    "origin_pos": 21,
    "tab": [
     "ray"
    ]
   },
   "outputs": [
    {
     "name": "stdout",
     "output_type": "stream",
     "text": [
      "Current ranking: [('Bob', 60.0), ('Alice', 90.0)]\n"
     ]
    }
   ],
   "source": [
    "# 增加新记录\n",
    "ranking.add.remote(\"Alice\", 90)\n",
    "ranking.add.remote(\"Bob\", 60)\n",
    "\n",
    "print(f\"Current ranking: {ray.get(ranking.top.remote(3))}\")"
   ]
  },
  {
   "cell_type": "code",
   "execution_count": 12,
   "id": "997d6df5",
   "metadata": {
    "execution": {
     "iopub.execute_input": "2023-08-14T10:28:36.517441Z",
     "iopub.status.busy": "2023-08-14T10:28:36.517049Z",
     "iopub.status.idle": "2023-08-14T10:28:36.524237Z",
     "shell.execute_reply": "2023-08-14T10:28:36.523339Z"
    },
    "origin_pos": 22,
    "tab": [
     "ray"
    ]
   },
   "outputs": [
    {
     "data": {
      "text/plain": [
       "{'Bob': 60.0, 'Alice': 90.0}"
      ]
     },
     "execution_count": 12,
     "metadata": {},
     "output_type": "execute_result"
    }
   ],
   "source": [
    "ray.get(ranking.add.remote(\"Mark\", 'a88'))"
   ]
  },
  {
   "cell_type": "markdown",
   "id": "c1deb393",
   "metadata": {
    "origin_pos": 23
   },
   "source": [
    "在上面的案例中，有些调用会引发异常，比如插入一个字符串，Ray 通常会处理异常并打印出来，但是为了保险起见，你也可以在调用这些 Remote Class 的成员方法时手动做好 `try/except` 的异常捕获：\n",
    "\n",
    "```\n",
    "try:\n",
    "    ray.get(ranking.pop.remote())\n",
    "    ray.get(ranking.pop.remote())\n",
    "    ray.get(ranking.pop.remote())\n",
    "except Exception as e:\n",
    "    print(e)\n",
    "```\n",
    "\n",
    "### 案例3：Actor Pool\n",
    "\n",
    "实践上，经常创建一个 Actor 资源池（Actor Pool），Actor Pool 有点像 `multiprocessing.Pool`，Actor Pool 中有包含多个 Actor，每个 Actor 功能一样，而且可以分式地在多个计算节点上运行。\n"
   ]
  },
  {
   "cell_type": "code",
   "execution_count": 13,
   "id": "f9cc6e68",
   "metadata": {
    "execution": {
     "iopub.execute_input": "2023-08-14T10:28:36.528912Z",
     "iopub.status.busy": "2023-08-14T10:28:36.528519Z",
     "iopub.status.idle": "2023-08-14T10:28:36.544643Z",
     "shell.execute_reply": "2023-08-14T10:28:36.543485Z"
    },
    "origin_pos": 24,
    "tab": [
     "ray"
    ]
   },
   "outputs": [],
   "source": [
    "from ray.util import ActorPool\n",
    "\n",
    "\n",
    "@ray.remote\n",
    "class PoolActor:\n",
    "    def add(self, operands):\n",
    "        (a, b) = operands\n",
    "        return a + b\n",
    "\n",
    "    def double(self, operand):\n",
    "        return operand * 2\n",
    "\n",
    "# 将创建的 Actor 添加至 ActorPool 中\n",
    "a1, a2, a3 = PoolActor.remote(), PoolActor.remote(), PoolActor.remote()\n",
    "pool = ActorPool([a1, a2, a3])"
   ]
  },
  {
   "cell_type": "markdown",
   "id": "8cc35760",
   "metadata": {
    "origin_pos": 25
   },
   "source": [
    "如果我们想调用加入到 ActorPool 中的 Actor，可以使用 `map(fn, values)` 和 `submit(fn, value)` 方法。这两个方法非常相似，所接收的参数是一个函数 `fn` 和参数 `value` 或者参数列表 `values`。`map()` 的 `values` 是一个列表，让函数并行地分发给多个 Actor 去处理；`submit()` 的 `value` 是单个值，每次从 ActorPool 中选择一个 Actor 去执行。`fn` 是一个 Lambda 表达式，或者说是一个匿名函数。这个 Lambda 表达式有两个参数：`actor` 和 `value`，`actor` 就是我们定义的单个 Actor 的函数调用，`value` 是这个函数的参数。\n",
    "\n",
    "函数的第一个参数是 ActorPool 中的 Actor，第二个参数是函数的参数。\n"
   ]
  },
  {
   "cell_type": "code",
   "execution_count": 14,
   "id": "369c4bcb",
   "metadata": {
    "execution": {
     "iopub.execute_input": "2023-08-14T10:28:36.550245Z",
     "iopub.status.busy": "2023-08-14T10:28:36.549752Z",
     "iopub.status.idle": "2023-08-14T10:28:36.557383Z",
     "shell.execute_reply": "2023-08-14T10:28:36.555979Z"
    },
    "origin_pos": 26,
    "tab": [
     "ray"
    ]
   },
   "outputs": [],
   "source": [
    "pool.map(lambda a, v: a.double.remote(v), [3, 4, 5, 4])\n",
    "\n",
    "pool.submit(lambda a, v: a.double.remote(v), 3)\n",
    "pool.submit(lambda a, v: a.double.remote(v), 4)"
   ]
  },
  {
   "cell_type": "markdown",
   "id": "051cb351",
   "metadata": {
    "origin_pos": 27
   },
   "source": [
    "`map()` 和 `submit()` 将计算任务提交到了 ActorPool 中，ActorPool 并不是直接返回结果，而是异步地分发给后台不同的 Actor 去执行。需要使用 `get_next()` 阻塞地返回结果。\n"
   ]
  },
  {
   "cell_type": "code",
   "execution_count": 15,
   "id": "a957c593",
   "metadata": {
    "execution": {
     "iopub.execute_input": "2023-08-14T10:28:36.562816Z",
     "iopub.status.busy": "2023-08-14T10:28:36.562397Z",
     "iopub.status.idle": "2023-08-14T10:28:37.472619Z",
     "shell.execute_reply": "2023-08-14T10:28:37.471924Z"
    },
    "origin_pos": 28,
    "tab": [
     "ray"
    ]
   },
   "outputs": [
    {
     "name": "stdout",
     "output_type": "stream",
     "text": [
      "\u001b[2m\u001b[36m(Ranking pid=71232)\u001b[0m The data type of score should be float but we receive <class 'str'>.\n"
     ]
    },
    {
     "name": "stdout",
     "output_type": "stream",
     "text": [
      "6\n",
      "8\n",
      "No more results to get\n"
     ]
    }
   ],
   "source": [
    "try:\n",
    "    print(pool.get_next())\n",
    "    print(pool.get_next())\n",
    "    print(pool.get_next())\n",
    "except Exception as e:\n",
    "    print(e)"
   ]
  },
  {
   "cell_type": "markdown",
   "id": "0b37047d",
   "metadata": {
    "origin_pos": 29
   },
   "source": [
    "当然，如果已经把所有结果都取回，仍然再去 `get_next()`，将会抛出异常。\n",
    "\n",
    "在这里，`value` 只能是单个对象，不能是参数列表，如果想传入多个参数，可以把参数包裹成元组。比如 `add()` 方法对两个操作数做计算，我们把两个操作数包裹为一个元组，实现 `add()` 函数时使用 `(a, b) = operands` 解析这个元组。\n"
   ]
  },
  {
   "cell_type": "code",
   "execution_count": 16,
   "id": "b7876c67",
   "metadata": {
    "execution": {
     "iopub.execute_input": "2023-08-14T10:28:37.476115Z",
     "iopub.status.busy": "2023-08-14T10:28:37.475774Z",
     "iopub.status.idle": "2023-08-14T10:28:37.481272Z",
     "shell.execute_reply": "2023-08-14T10:28:37.480552Z"
    },
    "origin_pos": 30,
    "tab": [
     "ray"
    ]
   },
   "outputs": [
    {
     "name": "stdout",
     "output_type": "stream",
     "text": [
      "11\n"
     ]
    }
   ],
   "source": [
    "pool.submit(lambda a, v: a.add.remote(v), (1, 10))\n",
    "print(pool.get_next())"
   ]
  },
  {
   "cell_type": "code",
   "execution_count": 17,
   "id": "2eaf995d",
   "metadata": {
    "execution": {
     "iopub.execute_input": "2023-08-14T10:28:37.484747Z",
     "iopub.status.busy": "2023-08-14T10:28:37.484421Z",
     "iopub.status.idle": "2023-08-14T10:28:39.961418Z",
     "shell.execute_reply": "2023-08-14T10:28:39.960376Z"
    },
    "origin_pos": 31,
    "tab": [
     "ray"
    ]
   },
   "outputs": [],
   "source": [
    "# Hide code\n",
    "ray.shutdown()"
   ]
  }
 ],
 "metadata": {
  "language_info": {
   "name": "python"
  },
  "required_libs": []
 },
 "nbformat": 4,
 "nbformat_minor": 5
}
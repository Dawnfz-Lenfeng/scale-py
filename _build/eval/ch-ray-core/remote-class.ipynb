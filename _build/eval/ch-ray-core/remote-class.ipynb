{
 "cells": [
  {
   "cell_type": "markdown",
   "id": "25753dae",
   "metadata": {},
   "source": [
    "# 分布式类\n",
    ":label:`remote-class`\n",
    "\n",
    ":numref:`remote-function` 展示了如何将一个无状态的函数扩展到 Ray 集群上进行分布式计算，但实际的场景中，我们经常需要进行有状态的计算。最简单的有状态计算包括维护一个计数器，每遇到某种条件，计数器加一。这类有状态的计算对于给定的输入，不一定得到确定的输出。单机场景我们可以使用 Python 的类（Class）来实现，计数器可作为类的成员变量。Ray 可以将 Python 类拓展到集群上，即远程类（Remote Class），又被称为行动者（Actor）。Actor 的名字来自 Actor 编程模型 :cite:`hewitt1973Universal`，这是一个典型的分布式计算编程模型，被广泛应用在大数据和人工智能领域，但 Actor 编程模型比较抽象，我们先从计数器的案例来入手。\n",
    "\n",
    "### 案例1：分布式计数器"
   ]
  },
  {
   "cell_type": "code",
   "execution_count": 1,
   "id": "1d3c2343",
   "metadata": {
    "execution": {
     "iopub.execute_input": "2023-08-08T10:52:07.649569Z",
     "iopub.status.busy": "2023-08-08T10:52:07.648839Z",
     "iopub.status.idle": "2023-08-08T10:52:12.928462Z",
     "shell.execute_reply": "2023-08-08T10:52:12.927524Z"
    }
   },
   "outputs": [
    {
     "data": {
      "text/html": [
       "<div>\n",
       "    <div style=\"margin-left: 50px;display: flex;flex-direction: row;align-items: center\">\n",
       "        <h3 style=\"color: var(--jp-ui-font-color0)\">Ray</h3>\n",
       "        <svg version=\"1.1\" id=\"ray\" width=\"3em\" viewBox=\"0 0 144.5 144.6\" style=\"margin-left: 3em;margin-right: 3em\">\n",
       "            <g id=\"layer-1\">\n",
       "                <path fill=\"#00a2e9\" class=\"st0\" d=\"M97.3,77.2c-3.8-1.1-6.2,0.9-8.3,5.1c-3.5,6.8-9.9,9.9-17.4,9.6S58,88.1,54.8,81.2c-1.4-3-3-4-6.3-4.1\n",
       "                    c-5.6-0.1-9.9,0.1-13.1,6.4c-3.8,7.6-13.6,10.2-21.8,7.6C5.2,88.4-0.4,80.5,0,71.7c0.1-8.4,5.7-15.8,13.8-18.2\n",
       "                    c8.4-2.6,17.5,0.7,22.3,8c1.3,1.9,1.3,5.2,3.6,5.6c3.9,0.6,8,0.2,12,0.2c1.8,0,1.9-1.6,2.4-2.8c3.5-7.8,9.7-11.8,18-11.9\n",
       "                    c8.2-0.1,14.4,3.9,17.8,11.4c1.3,2.8,2.9,3.6,5.7,3.3c1-0.1,2,0.1,3,0c2.8-0.5,6.4,1.7,8.1-2.7s-2.3-5.5-4.1-7.5\n",
       "                    c-5.1-5.7-10.9-10.8-16.1-16.3C84,38,81.9,37.1,78,38.3C66.7,42,56.2,35.7,53,24.1C50.3,14,57.3,2.8,67.7,0.5\n",
       "                    C78.4-2,89,4.7,91.5,15.3c0.1,0.3,0.1,0.5,0.2,0.8c0.7,3.4,0.7,6.9-0.8,9.8c-1.7,3.2-0.8,5,1.5,7.2c6.7,6.5,13.3,13,19.8,19.7\n",
       "                    c1.8,1.8,3,2.1,5.5,1.2c9.1-3.4,17.9-0.6,23.4,7c4.8,6.9,4.6,16.1-0.4,22.9c-5.4,7.2-14.2,9.9-23.1,6.5c-2.3-0.9-3.5-0.6-5.1,1.1\n",
       "                    c-6.7,6.9-13.6,13.7-20.5,20.4c-1.8,1.8-2.5,3.2-1.4,5.9c3.5,8.7,0.3,18.6-7.7,23.6c-7.9,5-18.2,3.8-24.8-2.9\n",
       "                    c-6.4-6.4-7.4-16.2-2.5-24.3c4.9-7.8,14.5-11,23.1-7.8c3,1.1,4.7,0.5,6.9-1.7C91.7,98.4,98,92.3,104.2,86c1.6-1.6,4.1-2.7,2.6-6.2\n",
       "                    c-1.4-3.3-3.8-2.5-6.2-2.6C99.8,77.2,98.9,77.2,97.3,77.2z M72.1,29.7c5.5,0.1,9.9-4.3,10-9.8c0-0.1,0-0.2,0-0.3\n",
       "                    C81.8,14,77,9.8,71.5,10.2c-5,0.3-9,4.2-9.3,9.2c-0.2,5.5,4,10.1,9.5,10.3C71.8,29.7,72,29.7,72.1,29.7z M72.3,62.3\n",
       "                    c-5.4-0.1-9.9,4.2-10.1,9.7c0,0.2,0,0.3,0,0.5c0.2,5.4,4.5,9.7,9.9,10c5.1,0.1,9.9-4.7,10.1-9.8c0.2-5.5-4-10-9.5-10.3\n",
       "                    C72.6,62.3,72.4,62.3,72.3,62.3z M115,72.5c0.1,5.4,4.5,9.7,9.8,9.9c5.6-0.2,10-4.8,10-10.4c-0.2-5.4-4.6-9.7-10-9.7\n",
       "                    c-5.3-0.1-9.8,4.2-9.9,9.5C115,72.1,115,72.3,115,72.5z M19.5,62.3c-5.4,0.1-9.8,4.4-10,9.8c-0.1,5.1,5.2,10.4,10.2,10.3\n",
       "                    c5.6-0.2,10-4.9,9.8-10.5c-0.1-5.4-4.5-9.7-9.9-9.6C19.6,62.3,19.5,62.3,19.5,62.3z M71.8,134.6c5.9,0.2,10.3-3.9,10.4-9.6\n",
       "                    c0.5-5.5-3.6-10.4-9.1-10.8c-5.5-0.5-10.4,3.6-10.8,9.1c0,0.5,0,0.9,0,1.4c-0.2,5.3,4,9.8,9.3,10\n",
       "                    C71.6,134.6,71.7,134.6,71.8,134.6z\"/>\n",
       "            </g>\n",
       "        </svg>\n",
       "        <table>\n",
       "            <tr>\n",
       "                <td style=\"text-align: left\"><b>Python version:</b></td>\n",
       "                <td style=\"text-align: left\"><b>3.10.9</b></td>\n",
       "            </tr>\n",
       "            <tr>\n",
       "                <td style=\"text-align: left\"><b>Ray version:</b></td>\n",
       "                <td style=\"text-align: left\"><b> 2.3.0</b></td>\n",
       "            </tr>\n",
       "            <tr>\n",
       "    <td style=\"text-align: left\"><b>Dashboard:</b></td>\n",
       "    <td style=\"text-align: left\"><b><a href=\"http://127.0.0.1:8267\" target=\"_blank\">http://127.0.0.1:8267</a></b></td>\n",
       "</tr>\n",
       "\n",
       "        </table>\n",
       "    </div>\n",
       "</div>\n"
      ],
      "text/plain": [
       "RayContext(dashboard_url='127.0.0.1:8267', python_version='3.10.9', ray_version='2.3.0', ray_commit='cf7a56b4b0b648c324722df7c99c168e92ff0b45', address_info={'node_ip_address': '127.0.0.1', 'raylet_ip_address': '127.0.0.1', 'redis_address': None, 'object_store_address': '/tmp/ray/session_2023-08-08_18-52-08_374311_7536/sockets/plasma_store', 'raylet_socket_name': '/tmp/ray/session_2023-08-08_18-52-08_374311_7536/sockets/raylet', 'webui_url': '127.0.0.1:8267', 'session_dir': '/tmp/ray/session_2023-08-08_18-52-08_374311_7536', 'metrics_export_port': 62371, 'gcs_address': '127.0.0.1:60674', 'address': '127.0.0.1:60674', 'dashboard_agent_listen_port': 52365, 'node_id': 'fd959c7850a0bee1af2248b0cf134796c9dfd5175fd90a5eca6d5238'})"
      ]
     },
     "execution_count": 1,
     "metadata": {},
     "output_type": "execute_result"
    }
   ],
   "source": [
    "# Hide code\n",
    "# Hide outputs\n",
    "import logging\n",
    "from typing import Dict, List, Tuple\n",
    "import ray\n",
    "\n",
    "if ray.is_initialized:\n",
    "    ray.shutdown()\n",
    "ray.init(logging_level=logging.ERROR)"
   ]
  },
  {
   "cell_type": "markdown",
   "id": "5e6d0309",
   "metadata": {},
   "source": [
    "Ray 的 Remote Class 也使用 `ray.remote()` 来装饰。"
   ]
  },
  {
   "cell_type": "code",
   "execution_count": 2,
   "id": "001dea79",
   "metadata": {
    "execution": {
     "iopub.execute_input": "2023-08-08T10:52:12.932993Z",
     "iopub.status.busy": "2023-08-08T10:52:12.932217Z",
     "iopub.status.idle": "2023-08-08T10:52:12.937955Z",
     "shell.execute_reply": "2023-08-08T10:52:12.937001Z"
    }
   },
   "outputs": [],
   "source": [
    "@ray.remote\n",
    "class Counter:\n",
    "    def __init__(self):\n",
    "        self.value = 0\n",
    "\n",
    "    def increment(self):\n",
    "        self.value += 1\n",
    "        return self.value\n",
    "\n",
    "    def get_counter(self):\n",
    "        return self.value"
   ]
  },
  {
   "cell_type": "markdown",
   "id": "ad2597b2",
   "metadata": {},
   "source": [
    "使用 Ray 创建一个类名为 `Counter` 的 Remote Class，需要在类名 `Counter` 后面加上 `remote()`。这样创建的类就是一个分布式的 Actor。"
   ]
  },
  {
   "cell_type": "code",
   "execution_count": 3,
   "id": "2c9d79d8",
   "metadata": {
    "execution": {
     "iopub.execute_input": "2023-08-08T10:52:12.941984Z",
     "iopub.status.busy": "2023-08-08T10:52:12.941420Z",
     "iopub.status.idle": "2023-08-08T10:52:12.951341Z",
     "shell.execute_reply": "2023-08-08T10:52:12.950346Z"
    }
   },
   "outputs": [],
   "source": [
    "counter = Counter.remote()"
   ]
  },
  {
   "cell_type": "markdown",
   "id": "86dd2f64",
   "metadata": {},
   "source": [
    "接下来我们要使用 `Counter` 类的计数功能：`increment()` 函数，我们也要在函数后面添加 `remote()` ，即 `对象实例.函数名.remote()`。"
   ]
  },
  {
   "cell_type": "code",
   "execution_count": 4,
   "id": "7b4ded68",
   "metadata": {
    "execution": {
     "iopub.execute_input": "2023-08-08T10:52:12.955814Z",
     "iopub.status.busy": "2023-08-08T10:52:12.955502Z",
     "iopub.status.idle": "2023-08-08T10:52:14.561439Z",
     "shell.execute_reply": "2023-08-08T10:52:14.559183Z"
    }
   },
   "outputs": [
    {
     "name": "stderr",
     "output_type": "stream",
     "text": [
      "\u001b[2m\u001b[33m(raylet)\u001b[0m /Users/luweizheng/anaconda3/envs/tpch/lib/python3.10/site-packages/ray/dashboard/agent.py:51: DeprecationWarning: There is no current event loop\n",
      "\u001b[2m\u001b[33m(raylet)\u001b[0m   aiogrpc.init_grpc_aio()\n"
     ]
    },
    {
     "name": "stdout",
     "output_type": "stream",
     "text": [
      "1\n"
     ]
    }
   ],
   "source": [
    "obj_ref = counter.increment.remote()\n",
    "print(ray.get(obj_ref))"
   ]
  },
  {
   "cell_type": "markdown",
   "id": "d8235f27",
   "metadata": {},
   "source": [
    "我们可以用同一个类创建不同的 Actor 实例，不同 Actor 之间的成员函数调用可以被并行化执行，但同一个 Actor 的成员函数调用是顺序执行的。"
   ]
  },
  {
   "cell_type": "code",
   "execution_count": 5,
   "id": "0e1d8a57",
   "metadata": {
    "execution": {
     "iopub.execute_input": "2023-08-08T10:52:14.568466Z",
     "iopub.status.busy": "2023-08-08T10:52:14.567573Z",
     "iopub.status.idle": "2023-08-08T10:52:20.263799Z",
     "shell.execute_reply": "2023-08-08T10:52:20.262934Z"
    }
   },
   "outputs": [
    {
     "name": "stdout",
     "output_type": "stream",
     "text": [
      "[1, 1, 1, 1, 1, 1, 1, 1, 1, 1]\n"
     ]
    }
   ],
   "source": [
    "# 创建 10 个 Actor 实例\n",
    "counters = [Counter.remote() for _ in range(10)]\n",
    "\n",
    "# 对每个 Actor 进行 increment 操作\n",
    "# 这些操作可以分布式执行\n",
    "results = ray.get([c.increment.remote() for c in counters])\n",
    "print(results)"
   ]
  },
  {
   "cell_type": "markdown",
   "id": "961d09ac",
   "metadata": {},
   "source": [
    "同一个 Actor 实例是互相共享状态的，所谓共享状态是指，Actor 可能被分布式地调度，无论调度到哪个计算节点，对 Actor 实例的任何操作都像对单机 Python 类和实例的操作一样，对象实例的成员变量的数据是可被访问、修改以及实时更新的。"
   ]
  },
  {
   "cell_type": "code",
   "execution_count": 6,
   "id": "21f66b8d",
   "metadata": {
    "execution": {
     "iopub.execute_input": "2023-08-08T10:52:20.268524Z",
     "iopub.status.busy": "2023-08-08T10:52:20.268157Z",
     "iopub.status.idle": "2023-08-08T10:52:20.275329Z",
     "shell.execute_reply": "2023-08-08T10:52:20.274330Z"
    }
   },
   "outputs": [
    {
     "name": "stdout",
     "output_type": "stream",
     "text": [
      "[2, 3, 4, 5, 6]\n"
     ]
    }
   ],
   "source": [
    "# 对第一个 Actor 进行5次 increment 操作\n",
    "# 这5次 increment 操作是顺序执行的，5次操作共享状态数据 value\n",
    "results = ray.get([counters[0].increment.remote() for _ in range(5)])\n",
    "print(results)"
   ]
  },
  {
   "cell_type": "markdown",
   "id": "d1a043e1",
   "metadata": {},
   "source": [
    "### Actor 编程模型\n",
    "\n",
    "Actor 编程模型是一种分布式编程的范式，每门编程语言或框架有自己的实现。Actor 编程模型的基本要素是 Actor 实例，即每个 Actor 对象都是唯一的。我们可以把单个 Actor 实例理解成单个带地址信息的进程。每个 Actor 都拥有地址信息，我们就可以从别的 Actor 向这个 Actor 发送信息，就像我们通过手机号或电子邮件地址互相发送信息一样。一个 Actor 可以有一个地址，也可以有多个地址，多个 Actor 可以共享同一个地址，拥有多少个地址主要取决于我们想以怎样的方式收发数据。多个 Actor 共享同一个地址，就像公司里有一个群组邮箱，群组包含了多个人，有个对外的公共的地址，向这个群组发邮件，群组中的每个人都可以收到消息。\n",
    "\n",
    "拥有地址和内存空间，Actor 可以做以下事情：\n",
    "\n",
    "* 存储数据，比如状态数据\n",
    "* 从别的 Actor 接收消息\n",
    "* 向别的 Actor 接收消息\n",
    "* 创建新的 Actor\n",
    "\n",
    "Actor 存储的状态数据只能由 Actor 自己来管理，不能被其他 Actor 修改。这有点像面向对象编程语言中类的实例，如果想修改实例的数据，一般通过实例的成员函数。如果我们想修改 Actor 里面存储的状态数据，应该向 Actor 发送消息，Actor 接收到消息，并基于自己存储的数据，做出决策：决定修改状态数据，或者再向其他 Actor 发送消息。比如，刚才的计数器案例中，Actor 收到 `increment()` 的消息，并根据自己存储的状态，做自增操作。\n",
    "\n",
    "为了保证 Actor 编程模型分布式环境下状态的一致性，对同一个 Actor 多次发送同样请求，多次请求是顺序执行的。就像计数器案例中，对同一个 Actor 进行5次 `increment()` 操作，这5次操作是顺序执行的。\n",
    "\n",
    "Actor 编程模型是消息驱动的，给某个 Actor 发送消息，它就会对该消息进行响应，修改自身的状态或者继续给其他 Actor 发送消息。Actor 编程模型不需要显式地在多个进程之间同步数据，因此也没有锁的问题以及同步等待的时间。Actor 编程模型可被用于大量异步操作的场景。\n",
    "\n",
    "### 案例2：排行榜\n",
    "\n",
    "接下来我们基于 Actor 实现一个更加复杂的案例：成绩排行榜。这个排行榜的状态是一个键值对，名为 `self.board`，键是名字（`name`），是一个 `str` 类型，值是分数（`score`），是一个 `float` 类型。"
   ]
  },
  {
   "cell_type": "code",
   "execution_count": 7,
   "id": "952a7a48",
   "metadata": {
    "execution": {
     "iopub.execute_input": "2023-08-08T10:52:20.281675Z",
     "iopub.status.busy": "2023-08-08T10:52:20.281119Z",
     "iopub.status.idle": "2023-08-08T10:52:20.299002Z",
     "shell.execute_reply": "2023-08-08T10:52:20.296084Z"
    }
   },
   "outputs": [],
   "source": [
    "@ray.remote\n",
    "class Ranking:\n",
    "    def __init__(self, minimal_score: float = 60.0):\n",
    "        self.minimal = minimal_score\n",
    "        self.board = dict()\n",
    "\n",
    "    def add(self, name: str, score: float) -> Dict[str, float]:\n",
    "        try:\n",
    "            score = float(score)\n",
    "            if score < self.minimal:\n",
    "                return\n",
    "            if name in self.board:\n",
    "                self.board[name] = max(score, self.board[name])\n",
    "            else:\n",
    "                self.board[name] = score\n",
    "            self.board = dict(sorted(self.board.items(), key=lambda item: item[1]))\n",
    "            return self.board\n",
    "        except Exception as e:\n",
    "            print(f\"The data type of score should be float but we receive {type(score)}.\")\n",
    "            return self.board\n",
    "\n",
    "    def top(self, n: int = 1) -> List[Tuple[str, float]]:\n",
    "        n = min(n, len(self.board))\n",
    "        results = list(self.board.items())[:n]\n",
    "        return results\n",
    "\n",
    "    def pop(self) -> Dict[str, float]:\n",
    "        if len(self.board) <= 0:\n",
    "            raise Exception(\"The board is empty.\")\n",
    "        else:\n",
    "            _, _ = self.board.popitem()\n",
    "        return self.board"
   ]
  },
  {
   "cell_type": "markdown",
   "id": "e257f897",
   "metadata": {},
   "source": [
    "在这个排行榜的例子中，一共三个函数：\n",
    "\n",
    "* `__init__()` ：构造器。\n",
    "* `add()`：添加一条新记录，同时对输入进行解析，如果 `score` 不能转换成 `float` 会抛出异常；并对已有记录排序。\n",
    "* `pop()`：删除最大值的那条记录，如果 `self.board` 为空，会抛出异常。\n",
    "\n",
    "使用 `.remote()` 函数来创建这个 Remote Class 对应的 Actor 实例。"
   ]
  },
  {
   "cell_type": "code",
   "execution_count": 8,
   "id": "af81d1c0",
   "metadata": {
    "execution": {
     "iopub.execute_input": "2023-08-08T10:52:20.309422Z",
     "iopub.status.busy": "2023-08-08T10:52:20.308985Z",
     "iopub.status.idle": "2023-08-08T10:52:20.325987Z",
     "shell.execute_reply": "2023-08-08T10:52:20.324502Z"
    }
   },
   "outputs": [],
   "source": [
    "# 创建排行榜\n",
    "ranking = Ranking.remote()"
   ]
  },
  {
   "cell_type": "markdown",
   "id": "a445fac4",
   "metadata": {},
   "source": [
    "这里的 `ranking` 是一个 Actor 的引用（Actor Handle），有点像 `ObjectRef`，我们用 `ranking` 这个 Actor Handle 来管理这个 Actor。一旦 Actor Handle 被销毁，对应的 Actor 以及其状态也被销毁。\n",
    "\n",
    "我们可以创建多个 Actor 实例，每个实例管理自己的状态。还可以用 `ActorClass.options` 给这些 Actor 实例设置一些选项，起名字，设置 CPU、GPU 计算资源等。"
   ]
  },
  {
   "cell_type": "code",
   "execution_count": 9,
   "id": "5eff1eeb",
   "metadata": {
    "execution": {
     "iopub.execute_input": "2023-08-08T10:52:20.331878Z",
     "iopub.status.busy": "2023-08-08T10:52:20.331406Z",
     "iopub.status.idle": "2023-08-08T10:52:20.339124Z",
     "shell.execute_reply": "2023-08-08T10:52:20.337902Z"
    }
   },
   "outputs": [],
   "source": [
    "# 创建一个数学排行榜 math_ranking\n",
    "# 它与刚创建的 ranking 相互独立\n",
    "math_ranking = Ranking.remote(minimal_score=80)\n",
    "\n",
    "# 创建一个化学排行榜 chem_ranking\n",
    "# 并且有一个名字\n",
    "chem_ranking = Ranking.options(name=\"Chemistry\").remote()"
   ]
  },
  {
   "cell_type": "markdown",
   "id": "e473d307",
   "metadata": {},
   "source": [
    "有了名字之后，就可以通过 `ray.get_actor()` 来获取 Actor Handle，"
   ]
  },
  {
   "cell_type": "code",
   "execution_count": 10,
   "id": "264efc6a",
   "metadata": {
    "execution": {
     "iopub.execute_input": "2023-08-08T10:52:20.350005Z",
     "iopub.status.busy": "2023-08-08T10:52:20.348308Z",
     "iopub.status.idle": "2023-08-08T10:52:20.377296Z",
     "shell.execute_reply": "2023-08-08T10:52:20.375811Z"
    }
   },
   "outputs": [],
   "source": [
    "# 获取名为 Chemistry 的 Actor Handle\n",
    "cr = ray.get_actor(\"Chemistry\")"
   ]
  },
  {
   "cell_type": "markdown",
   "id": "43ab2c7c",
   "metadata": {},
   "source": [
    "向 `ranking` 排行榜内添加新记录，即调用 `add()` 函数。调用类成员函数，都要记得加上 `.remote()` ，否则会报错。"
   ]
  },
  {
   "cell_type": "code",
   "execution_count": 11,
   "id": "05cf89b0",
   "metadata": {
    "execution": {
     "iopub.execute_input": "2023-08-08T10:52:20.382527Z",
     "iopub.status.busy": "2023-08-08T10:52:20.382092Z",
     "iopub.status.idle": "2023-08-08T10:52:22.031497Z",
     "shell.execute_reply": "2023-08-08T10:52:22.029318Z"
    }
   },
   "outputs": [
    {
     "name": "stdout",
     "output_type": "stream",
     "text": [
      "Current ranking: [('Bob', 60.0), ('Alice', 90.0)]\n"
     ]
    }
   ],
   "source": [
    "# 增加新记录\n",
    "ranking.add.remote(\"Alice\", 90)\n",
    "ranking.add.remote(\"Bob\", 60)\n",
    "\n",
    "print(f\"Current ranking: {ray.get(ranking.top.remote(3))}\")"
   ]
  },
  {
   "cell_type": "code",
   "execution_count": 12,
   "id": "27b7b92c",
   "metadata": {
    "execution": {
     "iopub.execute_input": "2023-08-08T10:52:22.037158Z",
     "iopub.status.busy": "2023-08-08T10:52:22.036823Z",
     "iopub.status.idle": "2023-08-08T10:52:22.044683Z",
     "shell.execute_reply": "2023-08-08T10:52:22.043150Z"
    }
   },
   "outputs": [
    {
     "data": {
      "text/plain": [
       "{'Bob': 60.0, 'Alice': 90.0}"
      ]
     },
     "execution_count": 12,
     "metadata": {},
     "output_type": "execute_result"
    }
   ],
   "source": [
    "ray.get(ranking.add.remote(\"Mark\", 'a88'))"
   ]
  },
  {
   "cell_type": "markdown",
   "id": "4a271688",
   "metadata": {},
   "source": [
    "在上面的案例中，有些调用会引发异常，比如插入一个字符串，Ray 通常会处理异常并打印出来，但是为了保险起见，你也可以在调用这些 Remote Class 的成员方法时手动做好 `try/except` 的异常捕获："
   ]
  },
  {
   "cell_type": "code",
   "execution_count": 13,
   "id": "20ad3c89",
   "metadata": {
    "execution": {
     "iopub.execute_input": "2023-08-08T10:52:22.048846Z",
     "iopub.status.busy": "2023-08-08T10:52:22.048548Z",
     "iopub.status.idle": "2023-08-08T10:52:22.061811Z",
     "shell.execute_reply": "2023-08-08T10:52:22.060942Z"
    }
   },
   "outputs": [
    {
     "name": "stdout",
     "output_type": "stream",
     "text": [
      "\u001b[36mray::Ranking.pop()\u001b[39m (pid=8063, ip=127.0.0.1, repr=<__main__.Ranking object at 0x7fd752c02890>)\n",
      "  File \"/var/folders/4n/v40br47s46ggrjm9bdm64lwh0000gn/T/ipykernel_7536/1570506600.py\", line 29, in pop\n",
      "Exception: The board is empty.\n"
     ]
    }
   ],
   "source": [
    "try:\n",
    "    ray.get(ranking.pop.remote())\n",
    "    ray.get(ranking.pop.remote())\n",
    "    ray.get(ranking.pop.remote())\n",
    "except Exception as e:\n",
    "    print(e)"
   ]
  },
  {
   "cell_type": "markdown",
   "id": "390bb0dd",
   "metadata": {},
   "source": [
    "实践上，经常创建一个 Actor 资源池（Actor Pool），Actor Pool 中有包含多个 Actor。"
   ]
  },
  {
   "cell_type": "code",
   "execution_count": 14,
   "id": "5e79b24f",
   "metadata": {
    "execution": {
     "iopub.execute_input": "2023-08-08T10:52:22.066081Z",
     "iopub.status.busy": "2023-08-08T10:52:22.065644Z",
     "iopub.status.idle": "2023-08-08T10:52:24.795552Z",
     "shell.execute_reply": "2023-08-08T10:52:24.794699Z"
    }
   },
   "outputs": [],
   "source": [
    "# Hide code\n",
    "ray.shutdown()"
   ]
  }
 ],
 "metadata": {
  "language_info": {
   "codemirror_mode": {
    "name": "ipython",
    "version": 3
   },
   "file_extension": ".py",
   "mimetype": "text/x-python",
   "name": "python",
   "nbconvert_exporter": "python",
   "pygments_lexer": "ipython3",
   "version": "3.10.9"
  }
 },
 "nbformat": 4,
 "nbformat_minor": 5
}

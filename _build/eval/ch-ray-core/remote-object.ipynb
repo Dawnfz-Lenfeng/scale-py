{
 "cells": [
  {
   "cell_type": "markdown",
   "id": "07e972b7",
   "metadata": {},
   "source": [
    "# 分布式对象存储\n",
    ":label:`remote-object`\n",
    "\n",
    "Ray 分布式计算中涉及共享数据可被放在分布式对象存储（Distributed Ojbect Store）中，被放置在分布式对象存储中的数据被称为远程对象（Remote Object）中。我们可以使用 `ray.get()` 和 `ray.put()` 读写这些 Remote Object。与内存中的 Python 对象实例不同，Remote Object 是不可原地直接更改的（Immutable）。\n",
    "\n",
    "### ray.put() 与 ray.get()"
   ]
  },
  {
   "cell_type": "code",
   "execution_count": 1,
   "id": "d3916a80",
   "metadata": {
    "execution": {
     "iopub.execute_input": "2023-08-08T10:25:09.182869Z",
     "iopub.status.busy": "2023-08-08T10:25:09.180738Z",
     "iopub.status.idle": "2023-08-08T10:25:18.798063Z",
     "shell.execute_reply": "2023-08-08T10:25:18.795858Z"
    }
   },
   "outputs": [
    {
     "data": {
      "text/html": [
       "<div>\n",
       "    <div style=\"margin-left: 50px;display: flex;flex-direction: row;align-items: center\">\n",
       "        <h3 style=\"color: var(--jp-ui-font-color0)\">Ray</h3>\n",
       "        <svg version=\"1.1\" id=\"ray\" width=\"3em\" viewBox=\"0 0 144.5 144.6\" style=\"margin-left: 3em;margin-right: 3em\">\n",
       "            <g id=\"layer-1\">\n",
       "                <path fill=\"#00a2e9\" class=\"st0\" d=\"M97.3,77.2c-3.8-1.1-6.2,0.9-8.3,5.1c-3.5,6.8-9.9,9.9-17.4,9.6S58,88.1,54.8,81.2c-1.4-3-3-4-6.3-4.1\n",
       "                    c-5.6-0.1-9.9,0.1-13.1,6.4c-3.8,7.6-13.6,10.2-21.8,7.6C5.2,88.4-0.4,80.5,0,71.7c0.1-8.4,5.7-15.8,13.8-18.2\n",
       "                    c8.4-2.6,17.5,0.7,22.3,8c1.3,1.9,1.3,5.2,3.6,5.6c3.9,0.6,8,0.2,12,0.2c1.8,0,1.9-1.6,2.4-2.8c3.5-7.8,9.7-11.8,18-11.9\n",
       "                    c8.2-0.1,14.4,3.9,17.8,11.4c1.3,2.8,2.9,3.6,5.7,3.3c1-0.1,2,0.1,3,0c2.8-0.5,6.4,1.7,8.1-2.7s-2.3-5.5-4.1-7.5\n",
       "                    c-5.1-5.7-10.9-10.8-16.1-16.3C84,38,81.9,37.1,78,38.3C66.7,42,56.2,35.7,53,24.1C50.3,14,57.3,2.8,67.7,0.5\n",
       "                    C78.4-2,89,4.7,91.5,15.3c0.1,0.3,0.1,0.5,0.2,0.8c0.7,3.4,0.7,6.9-0.8,9.8c-1.7,3.2-0.8,5,1.5,7.2c6.7,6.5,13.3,13,19.8,19.7\n",
       "                    c1.8,1.8,3,2.1,5.5,1.2c9.1-3.4,17.9-0.6,23.4,7c4.8,6.9,4.6,16.1-0.4,22.9c-5.4,7.2-14.2,9.9-23.1,6.5c-2.3-0.9-3.5-0.6-5.1,1.1\n",
       "                    c-6.7,6.9-13.6,13.7-20.5,20.4c-1.8,1.8-2.5,3.2-1.4,5.9c3.5,8.7,0.3,18.6-7.7,23.6c-7.9,5-18.2,3.8-24.8-2.9\n",
       "                    c-6.4-6.4-7.4-16.2-2.5-24.3c4.9-7.8,14.5-11,23.1-7.8c3,1.1,4.7,0.5,6.9-1.7C91.7,98.4,98,92.3,104.2,86c1.6-1.6,4.1-2.7,2.6-6.2\n",
       "                    c-1.4-3.3-3.8-2.5-6.2-2.6C99.8,77.2,98.9,77.2,97.3,77.2z M72.1,29.7c5.5,0.1,9.9-4.3,10-9.8c0-0.1,0-0.2,0-0.3\n",
       "                    C81.8,14,77,9.8,71.5,10.2c-5,0.3-9,4.2-9.3,9.2c-0.2,5.5,4,10.1,9.5,10.3C71.8,29.7,72,29.7,72.1,29.7z M72.3,62.3\n",
       "                    c-5.4-0.1-9.9,4.2-10.1,9.7c0,0.2,0,0.3,0,0.5c0.2,5.4,4.5,9.7,9.9,10c5.1,0.1,9.9-4.7,10.1-9.8c0.2-5.5-4-10-9.5-10.3\n",
       "                    C72.6,62.3,72.4,62.3,72.3,62.3z M115,72.5c0.1,5.4,4.5,9.7,9.8,9.9c5.6-0.2,10-4.8,10-10.4c-0.2-5.4-4.6-9.7-10-9.7\n",
       "                    c-5.3-0.1-9.8,4.2-9.9,9.5C115,72.1,115,72.3,115,72.5z M19.5,62.3c-5.4,0.1-9.8,4.4-10,9.8c-0.1,5.1,5.2,10.4,10.2,10.3\n",
       "                    c5.6-0.2,10-4.9,9.8-10.5c-0.1-5.4-4.5-9.7-9.9-9.6C19.6,62.3,19.5,62.3,19.5,62.3z M71.8,134.6c5.9,0.2,10.3-3.9,10.4-9.6\n",
       "                    c0.5-5.5-3.6-10.4-9.1-10.8c-5.5-0.5-10.4,3.6-10.8,9.1c0,0.5,0,0.9,0,1.4c-0.2,5.3,4,9.8,9.3,10\n",
       "                    C71.6,134.6,71.7,134.6,71.8,134.6z\"/>\n",
       "            </g>\n",
       "        </svg>\n",
       "        <table>\n",
       "            <tr>\n",
       "                <td style=\"text-align: left\"><b>Python version:</b></td>\n",
       "                <td style=\"text-align: left\"><b>3.10.9</b></td>\n",
       "            </tr>\n",
       "            <tr>\n",
       "                <td style=\"text-align: left\"><b>Ray version:</b></td>\n",
       "                <td style=\"text-align: left\"><b> 2.3.0</b></td>\n",
       "            </tr>\n",
       "            <tr>\n",
       "    <td style=\"text-align: left\"><b>Dashboard:</b></td>\n",
       "    <td style=\"text-align: left\"><b><a href=\"http://127.0.0.1:8267\" target=\"_blank\">http://127.0.0.1:8267</a></b></td>\n",
       "</tr>\n",
       "\n",
       "        </table>\n",
       "    </div>\n",
       "</div>\n"
      ],
      "text/plain": [
       "RayContext(dashboard_url='127.0.0.1:8267', python_version='3.10.9', ray_version='2.3.0', ray_commit='cf7a56b4b0b648c324722df7c99c168e92ff0b45', address_info={'node_ip_address': '127.0.0.1', 'raylet_ip_address': '127.0.0.1', 'redis_address': None, 'object_store_address': '/tmp/ray/session_2023-08-08_18-25-13_040711_43660/sockets/plasma_store', 'raylet_socket_name': '/tmp/ray/session_2023-08-08_18-25-13_040711_43660/sockets/raylet', 'webui_url': '127.0.0.1:8267', 'session_dir': '/tmp/ray/session_2023-08-08_18-25-13_040711_43660', 'metrics_export_port': 64625, 'gcs_address': '127.0.0.1:61575', 'address': '127.0.0.1:61575', 'dashboard_agent_listen_port': 52365, 'node_id': '78d741b9d93d1032a4cd8b53869065f77c23f7d18c58e8a62edb6e51'})"
      ]
     },
     "execution_count": 1,
     "metadata": {},
     "output_type": "execute_result"
    }
   ],
   "source": [
    "# Hide code\n",
    "# Hide outputs\n",
    "import logging\n",
    "import numpy as np\n",
    "import pandas as pd\n",
    "from typing import Tuple\n",
    "import random\n",
    "import torch\n",
    "import ray\n",
    "\n",
    "if ray.is_initialized:\n",
    "    ray.shutdown()\n",
    "ray.init(logging_level=logging.ERROR)"
   ]
  },
  {
   "cell_type": "markdown",
   "id": "6c6a4f17",
   "metadata": {},
   "source": [
    "如 :numref:`put-get-object-store` 所示，操作 Remote Object 主要有 `ray.put()` 和 `ray.get()` 两个 API：`ray.put()` 与 `ray.get()` 。\n",
    "\n",
    "* `ray.put()` 把某个计算节点中的对象数据进行序列化，并将其写入到 Ray 集群的分布式对象存储中，返回一个 `RefObjectID`，`RefObjectID` 是指向这个 Remote Object 的指针。我们可以通过引用这个 `RefObjectID`，在 Remote Function 或 Remote Class 中分布式地使用这个数据对象。\n",
    "\n",
    "* `ray.get()` 使用 `RefObjectID` 从把数据从分布式对象存储中拉取回来，并进行反序列化。\n",
    "\n",
    "![对象存储分布在多个节点，通过 ray.put() 向集群写数据，通过 ray.get() 从集群读数据](../img/ch-ray-core/put-get-object-store.png)\n",
    ":width:`800px`\n",
    ":label:`put-get-object-store`"
   ]
  },
  {
   "cell_type": "code",
   "execution_count": 2,
   "id": "729a0e9a",
   "metadata": {
    "execution": {
     "iopub.execute_input": "2023-08-08T10:25:18.804660Z",
     "iopub.status.busy": "2023-08-08T10:25:18.803621Z",
     "iopub.status.idle": "2023-08-08T10:25:18.921691Z",
     "shell.execute_reply": "2023-08-08T10:25:18.919857Z"
    }
   },
   "outputs": [
    {
     "data": {
      "text/plain": [
       "(ObjectRef(00ffffffffffffffffffffffffffffffffffffff0100000001000000), 15)"
      ]
     },
     "execution_count": 2,
     "metadata": {},
     "output_type": "execute_result"
    }
   ],
   "source": [
    "def create_rand_tensor(size: Tuple[int, int, int]) -> torch.tensor:\n",
    "    return torch.randn(size=(size), dtype=torch.float)\n",
    "\n",
    "torch.manual_seed(42)\n",
    "# 创建 16个 个机张量，每个张量大小为 (X, 8, 8)\n",
    "tensor_obj_ref_list = [ray.put(create_rand_tensor((i, 8, 8))) for i in range(1, 16)]\n",
    "tensor_obj_ref_list[0], len(tensor_obj_ref_list)"
   ]
  },
  {
   "cell_type": "markdown",
   "id": "9fcf58d2",
   "metadata": {},
   "source": [
    "使用 `ray.get()` 从分布式对象存储中拉取数据。"
   ]
  },
  {
   "cell_type": "code",
   "execution_count": 3,
   "id": "c2a2749c",
   "metadata": {
    "execution": {
     "iopub.execute_input": "2023-08-08T10:25:18.928320Z",
     "iopub.status.busy": "2023-08-08T10:25:18.927878Z",
     "iopub.status.idle": "2023-08-08T10:25:18.942653Z",
     "shell.execute_reply": "2023-08-08T10:25:18.940998Z"
    }
   },
   "outputs": [
    {
     "data": {
      "text/plain": [
       "(torch.Size([1, 8, 8]),\n",
       " tensor([[[ 1.9269,  1.4873,  0.9007, -2.1055,  0.6784, -1.2345, -0.0431,\n",
       "           -1.6047],\n",
       "          [-0.7521,  1.6487, -0.3925, -1.4036, -0.7279, -0.5594, -0.7688,\n",
       "            0.7624],\n",
       "          [ 1.6423, -0.1596, -0.4974,  0.4396, -0.7581,  1.0783,  0.8008,\n",
       "            1.6806],\n",
       "          [ 1.2791,  1.2964,  0.6105,  1.3347, -0.2316,  0.0418, -0.2516,\n",
       "            0.8599],\n",
       "          [-1.3847, -0.8712, -0.2234,  1.7174,  0.3189, -0.4245,  0.3057,\n",
       "           -0.7746],\n",
       "          [-1.5576,  0.9956, -0.8798, -0.6011, -1.2742,  2.1228, -1.2347,\n",
       "           -0.4879],\n",
       "          [-0.9138, -0.6581,  0.0780,  0.5258, -0.4880,  1.1914, -0.8140,\n",
       "           -0.7360],\n",
       "          [-1.4032,  0.0360, -0.0635,  0.6756, -0.0978,  1.8446, -1.1845,\n",
       "            1.3835]]]))"
      ]
     },
     "execution_count": 3,
     "metadata": {},
     "output_type": "execute_result"
    }
   ],
   "source": [
    "val = ray.get(tensor_obj_ref_list[0])\n",
    "val.size(), val"
   ]
  },
  {
   "cell_type": "markdown",
   "id": "406e1e3c",
   "metadata": {},
   "source": [
    "或者把存放 `ObjectRefIDs` 列表的所有对象都拉取过来："
   ]
  },
  {
   "cell_type": "code",
   "execution_count": 4,
   "id": "8cb9cfb7",
   "metadata": {
    "execution": {
     "iopub.execute_input": "2023-08-08T10:25:18.948577Z",
     "iopub.status.busy": "2023-08-08T10:25:18.948077Z",
     "iopub.status.idle": "2023-08-08T10:25:18.967676Z",
     "shell.execute_reply": "2023-08-08T10:25:18.965821Z"
    }
   },
   "outputs": [
    {
     "data": {
      "text/plain": [
       "(torch.Size([1, 8, 8]),\n",
       " tensor([[[ 1.9269,  1.4873,  0.9007, -2.1055,  0.6784, -1.2345, -0.0431,\n",
       "           -1.6047],\n",
       "          [-0.7521,  1.6487, -0.3925, -1.4036, -0.7279, -0.5594, -0.7688,\n",
       "            0.7624],\n",
       "          [ 1.6423, -0.1596, -0.4974,  0.4396, -0.7581,  1.0783,  0.8008,\n",
       "            1.6806],\n",
       "          [ 1.2791,  1.2964,  0.6105,  1.3347, -0.2316,  0.0418, -0.2516,\n",
       "            0.8599],\n",
       "          [-1.3847, -0.8712, -0.2234,  1.7174,  0.3189, -0.4245,  0.3057,\n",
       "           -0.7746],\n",
       "          [-1.5576,  0.9956, -0.8798, -0.6011, -1.2742,  2.1228, -1.2347,\n",
       "           -0.4879],\n",
       "          [-0.9138, -0.6581,  0.0780,  0.5258, -0.4880,  1.1914, -0.8140,\n",
       "           -0.7360],\n",
       "          [-1.4032,  0.0360, -0.0635,  0.6756, -0.0978,  1.8446, -1.1845,\n",
       "            1.3835]]]))"
      ]
     },
     "execution_count": 4,
     "metadata": {},
     "output_type": "execute_result"
    }
   ],
   "source": [
    "results = ray.get(tensor_obj_ref_list)\n",
    "results[0].size(), results[0]"
   ]
  },
  {
   "cell_type": "markdown",
   "id": "5d65a32d",
   "metadata": {},
   "source": [
    "### 对数据进行转换\n",
    "\n",
    "Remote Object 的数据是不可原地更改的，比如下面的操作在单机的内存上可以，但是在 Remote Object 上，不可以直接在原地对 Remote Object 做更改。"
   ]
  },
  {
   "cell_type": "code",
   "execution_count": 5,
   "id": "b8ba1cbb",
   "metadata": {
    "execution": {
     "iopub.execute_input": "2023-08-08T10:25:18.973747Z",
     "iopub.status.busy": "2023-08-08T10:25:18.973383Z",
     "iopub.status.idle": "2023-08-08T10:25:18.982130Z",
     "shell.execute_reply": "2023-08-08T10:25:18.981210Z"
    }
   },
   "outputs": [
    {
     "data": {
      "text/plain": [
       "tensor([[[1., 1., 1., 1., 1., 1., 1., 1.],\n",
       "         [1., 1., 1., 1., 1., 1., 1., 1.],\n",
       "         [1., 1., 1., 1., 1., 1., 1., 1.],\n",
       "         [1., 1., 1., 1., 1., 1., 1., 1.],\n",
       "         [1., 1., 1., 1., 1., 1., 1., 1.],\n",
       "         [1., 1., 1., 1., 1., 1., 1., 1.],\n",
       "         [1., 1., 1., 1., 1., 1., 1., 1.],\n",
       "         [1., 1., 1., 1., 1., 1., 1., 1.]]])"
      ]
     },
     "execution_count": 5,
     "metadata": {},
     "output_type": "execute_result"
    }
   ],
   "source": [
    "a = torch.rand(size=(1, 8, 8))\n",
    "a[0] = torch.ones(8, 8)\n",
    "a"
   ]
  },
  {
   "cell_type": "markdown",
   "id": "61477988",
   "metadata": {},
   "source": [
    "如果我们想使用新数据，应该使用 Remote Function 或者 Remote Class 对 Remote Object 进行转换操作，生成新的 Remote Object。"
   ]
  },
  {
   "cell_type": "code",
   "execution_count": 6,
   "id": "8a5322ff",
   "metadata": {
    "execution": {
     "iopub.execute_input": "2023-08-08T10:25:18.986907Z",
     "iopub.status.busy": "2023-08-08T10:25:18.986429Z",
     "iopub.status.idle": "2023-08-08T10:25:19.057186Z",
     "shell.execute_reply": "2023-08-08T10:25:19.014293Z"
    }
   },
   "outputs": [
    {
     "data": {
      "text/plain": [
       "28"
      ]
     },
     "execution_count": 6,
     "metadata": {},
     "output_type": "execute_result"
    }
   ],
   "source": [
    "@ray.remote\n",
    "def transform_tensor(tensor: torch.tensor) -> torch.tensor:\n",
    "    return torch.transpose(tensor, 0, 1)\n",
    "\n",
    "transformed_object_list = [transform_tensor.remote(t_obj_ref) for t_obj_ref in tensor_obj_ref_list]\n",
    "transformed_object_list[0].size()"
   ]
  },
  {
   "cell_type": "markdown",
   "id": "e3962525",
   "metadata": {},
   "source": [
    "### 传递参数\n",
    "\n",
    "Remote Object 可以通过 `RefObjectID` 在 Task、Actor 之间传递。\n",
    "\n",
    "#### 直接传递\n",
    "\n",
    "直接在 Task 或者 Actor 的函数调用时将 `RefObjectID` 作为参数传递进去。在下面这个例子中，`x_obj_ref` 是一个 `RefObjectID` ，`echo()` 这个 Remote Function 将自动从 `x_obj_ref` 获取 `x` 的值。这个自动获取值的过程被称为自动反引用（De-referenced）。"
   ]
  },
  {
   "cell_type": "code",
   "execution_count": 7,
   "id": "845fb68d",
   "metadata": {
    "execution": {
     "iopub.execute_input": "2023-08-08T10:25:19.085596Z",
     "iopub.status.busy": "2023-08-08T10:25:19.085094Z",
     "iopub.status.idle": "2023-08-08T10:25:19.094474Z",
     "shell.execute_reply": "2023-08-08T10:25:19.092881Z"
    }
   },
   "outputs": [
    {
     "data": {
      "text/plain": [
       "ObjectRef(00ffffffffffffffffffffffffffffffffffffff0100000010000000)"
      ]
     },
     "execution_count": 7,
     "metadata": {},
     "output_type": "execute_result"
    }
   ],
   "source": [
    "@ray.remote\n",
    "def echo(x):\n",
    "    print(f\"current value of argument x: {x}\")\n",
    "    return x\n",
    "\n",
    "x = list(range(5))\n",
    "x_obj_ref = ray.put(x)\n",
    "x_obj_ref"
   ]
  },
  {
   "cell_type": "code",
   "execution_count": 8,
   "id": "9b5f762b",
   "metadata": {
    "execution": {
     "iopub.execute_input": "2023-08-08T10:25:19.101848Z",
     "iopub.status.busy": "2023-08-08T10:25:19.101353Z",
     "iopub.status.idle": "2023-08-08T10:25:22.871695Z",
     "shell.execute_reply": "2023-08-08T10:25:22.869950Z"
    }
   },
   "outputs": [
    {
     "data": {
      "text/plain": [
       "[0, 1, 2, 3, 4]"
      ]
     },
     "execution_count": 8,
     "metadata": {},
     "output_type": "execute_result"
    }
   ],
   "source": [
    "ray.get(echo.remote(x_obj_ref))"
   ]
  },
  {
   "cell_type": "code",
   "execution_count": 9,
   "id": "548e6ebe",
   "metadata": {
    "execution": {
     "iopub.execute_input": "2023-08-08T10:25:22.881122Z",
     "iopub.status.busy": "2023-08-08T10:25:22.880106Z",
     "iopub.status.idle": "2023-08-08T10:25:22.893902Z",
     "shell.execute_reply": "2023-08-08T10:25:22.892214Z"
    }
   },
   "outputs": [
    {
     "name": "stdout",
     "output_type": "stream",
     "text": [
      "\u001b[2m\u001b[36m(echo pid=43989)\u001b[0m current value of argument x: [0, 1, 2, 3, 4]\n"
     ]
    },
    {
     "data": {
      "text/plain": [
       "[0, 1, 2, 3, 4]"
      ]
     },
     "execution_count": 9,
     "metadata": {},
     "output_type": "execute_result"
    }
   ],
   "source": [
    "ray.get(echo.remote(x))"
   ]
  },
  {
   "cell_type": "markdown",
   "id": "c9c9aa56",
   "metadata": {},
   "source": [
    "#### 复杂数据结构\n",
    "\n",
    "如果 `RefObjectID` 被包裹在一个复杂的数据结构中，Ray 并不会自动获取 `RefObjectID` 对应的值，即 De-referenced 并不是自动的。复杂数据结构包括：\n",
    "\n",
    "* `RefObjectID` 被包裹在一个 `dict` 中，比如：`.remote({\"obj\": x_obj_ref})`\n",
    "* `RefObjectID` 被包裹在一个 `list` 中，比如：`.remote([x_obj_ref])`"
   ]
  },
  {
   "cell_type": "code",
   "execution_count": 10,
   "id": "c19f00cb",
   "metadata": {
    "execution": {
     "iopub.execute_input": "2023-08-08T10:25:22.901744Z",
     "iopub.status.busy": "2023-08-08T10:25:22.901203Z",
     "iopub.status.idle": "2023-08-08T10:25:22.919984Z",
     "shell.execute_reply": "2023-08-08T10:25:22.918231Z"
    }
   },
   "outputs": [
    {
     "data": {
      "text/plain": [
       "{'obj': ObjectRef(00ffffffffffffffffffffffffffffffffffffff0100000010000000)}"
      ]
     },
     "execution_count": 10,
     "metadata": {},
     "output_type": "execute_result"
    }
   ],
   "source": [
    "ray.get(echo.remote({\"obj\": x_obj_ref}))"
   ]
  },
  {
   "cell_type": "code",
   "execution_count": 11,
   "id": "8bc1cc71",
   "metadata": {
    "execution": {
     "iopub.execute_input": "2023-08-08T10:25:22.926553Z",
     "iopub.status.busy": "2023-08-08T10:25:22.926016Z",
     "iopub.status.idle": "2023-08-08T10:25:22.938446Z",
     "shell.execute_reply": "2023-08-08T10:25:22.937192Z"
    }
   },
   "outputs": [
    {
     "data": {
      "text/plain": [
       "[ObjectRef(00ffffffffffffffffffffffffffffffffffffff0100000010000000)]"
      ]
     },
     "execution_count": 11,
     "metadata": {},
     "output_type": "execute_result"
    }
   ],
   "source": [
    "ray.get(echo.remote([x_obj_ref]))"
   ]
  },
  {
   "cell_type": "markdown",
   "id": "e2380d40",
   "metadata": {},
   "source": [
    "### 底层实现\n",
    "\n",
    "Ray 集群的每个计算节点都有一个基于共享内存的对象存储， Remote Object 的数据会存储在集群某个或者某些计算节点的对象存储中，所有计算节点的共享内存共同组成了分布式对象存储。\n",
    "\n",
    "当某个 Remote Object 的数据量较小时（<= 100 KB），它会被存储在计算节点进程内存中；当数据量较大时，它会被存储在分布式的共享内存中；当集群的共享内存的空间不够时，数据会被外溢（Spill）到持久化的存储上，比如硬盘或者S3。"
   ]
  },
  {
   "cell_type": "code",
   "execution_count": 12,
   "id": "8bdfd50b",
   "metadata": {
    "execution": {
     "iopub.execute_input": "2023-08-08T10:25:22.943126Z",
     "iopub.status.busy": "2023-08-08T10:25:22.942785Z",
     "iopub.status.idle": "2023-08-08T10:25:25.645637Z",
     "shell.execute_reply": "2023-08-08T10:25:25.644718Z"
    }
   },
   "outputs": [],
   "source": [
    "# Hide code\n",
    "ray.shutdown()"
   ]
  }
 ],
 "metadata": {
  "language_info": {
   "codemirror_mode": {
    "name": "ipython",
    "version": 3
   },
   "file_extension": ".py",
   "mimetype": "text/x-python",
   "name": "python",
   "nbconvert_exporter": "python",
   "pygments_lexer": "ipython3",
   "version": "3.10.9"
  }
 },
 "nbformat": 4,
 "nbformat_minor": 5
}

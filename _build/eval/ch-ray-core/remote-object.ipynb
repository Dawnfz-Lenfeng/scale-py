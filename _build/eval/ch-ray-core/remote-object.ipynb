{
 "cells": [
  {
   "cell_type": "markdown",
   "id": "2df780af",
   "metadata": {
    "origin_pos": 0
   },
   "source": [
    "# 分布式对象存储\n",
    ":label:`remote-object`\n",
    "\n",
    "Ray 分布式计算中涉及共享数据可被放在分布式对象存储（Distributed Ojbect Store）中，被放置在分布式对象存储中的数据被称为远程对象（Remote Object）中。我们可以使用 `ray.get()` 和 `ray.put()` 读写这些 Remote Object。与内存中的 Python 对象实例不同，Remote Object 是不可原地直接更改的（Immutable）。\n",
    "\n",
    "### ray.put() 与 ray.get()\n"
   ]
  },
  {
   "cell_type": "code",
   "execution_count": 1,
   "id": "e2c5d3c4",
   "metadata": {
    "execution": {
     "iopub.execute_input": "2023-08-14T10:28:17.780671Z",
     "iopub.status.busy": "2023-08-14T10:28:17.780313Z",
     "iopub.status.idle": "2023-08-14T10:28:29.825646Z",
     "shell.execute_reply": "2023-08-14T10:28:29.823916Z"
    },
    "origin_pos": 1,
    "tab": [
     "ray"
    ]
   },
   "outputs": [
    {
     "data": {
      "text/html": [
       "<div>\n",
       "    <div style=\"margin-left: 50px;display: flex;flex-direction: row;align-items: center\">\n",
       "        <h3 style=\"color: var(--jp-ui-font-color0)\">Ray</h3>\n",
       "        <svg version=\"1.1\" id=\"ray\" width=\"3em\" viewBox=\"0 0 144.5 144.6\" style=\"margin-left: 3em;margin-right: 3em\">\n",
       "            <g id=\"layer-1\">\n",
       "                <path fill=\"#00a2e9\" class=\"st0\" d=\"M97.3,77.2c-3.8-1.1-6.2,0.9-8.3,5.1c-3.5,6.8-9.9,9.9-17.4,9.6S58,88.1,54.8,81.2c-1.4-3-3-4-6.3-4.1\n",
       "                    c-5.6-0.1-9.9,0.1-13.1,6.4c-3.8,7.6-13.6,10.2-21.8,7.6C5.2,88.4-0.4,80.5,0,71.7c0.1-8.4,5.7-15.8,13.8-18.2\n",
       "                    c8.4-2.6,17.5,0.7,22.3,8c1.3,1.9,1.3,5.2,3.6,5.6c3.9,0.6,8,0.2,12,0.2c1.8,0,1.9-1.6,2.4-2.8c3.5-7.8,9.7-11.8,18-11.9\n",
       "                    c8.2-0.1,14.4,3.9,17.8,11.4c1.3,2.8,2.9,3.6,5.7,3.3c1-0.1,2,0.1,3,0c2.8-0.5,6.4,1.7,8.1-2.7s-2.3-5.5-4.1-7.5\n",
       "                    c-5.1-5.7-10.9-10.8-16.1-16.3C84,38,81.9,37.1,78,38.3C66.7,42,56.2,35.7,53,24.1C50.3,14,57.3,2.8,67.7,0.5\n",
       "                    C78.4-2,89,4.7,91.5,15.3c0.1,0.3,0.1,0.5,0.2,0.8c0.7,3.4,0.7,6.9-0.8,9.8c-1.7,3.2-0.8,5,1.5,7.2c6.7,6.5,13.3,13,19.8,19.7\n",
       "                    c1.8,1.8,3,2.1,5.5,1.2c9.1-3.4,17.9-0.6,23.4,7c4.8,6.9,4.6,16.1-0.4,22.9c-5.4,7.2-14.2,9.9-23.1,6.5c-2.3-0.9-3.5-0.6-5.1,1.1\n",
       "                    c-6.7,6.9-13.6,13.7-20.5,20.4c-1.8,1.8-2.5,3.2-1.4,5.9c3.5,8.7,0.3,18.6-7.7,23.6c-7.9,5-18.2,3.8-24.8-2.9\n",
       "                    c-6.4-6.4-7.4-16.2-2.5-24.3c4.9-7.8,14.5-11,23.1-7.8c3,1.1,4.7,0.5,6.9-1.7C91.7,98.4,98,92.3,104.2,86c1.6-1.6,4.1-2.7,2.6-6.2\n",
       "                    c-1.4-3.3-3.8-2.5-6.2-2.6C99.8,77.2,98.9,77.2,97.3,77.2z M72.1,29.7c5.5,0.1,9.9-4.3,10-9.8c0-0.1,0-0.2,0-0.3\n",
       "                    C81.8,14,77,9.8,71.5,10.2c-5,0.3-9,4.2-9.3,9.2c-0.2,5.5,4,10.1,9.5,10.3C71.8,29.7,72,29.7,72.1,29.7z M72.3,62.3\n",
       "                    c-5.4-0.1-9.9,4.2-10.1,9.7c0,0.2,0,0.3,0,0.5c0.2,5.4,4.5,9.7,9.9,10c5.1,0.1,9.9-4.7,10.1-9.8c0.2-5.5-4-10-9.5-10.3\n",
       "                    C72.6,62.3,72.4,62.3,72.3,62.3z M115,72.5c0.1,5.4,4.5,9.7,9.8,9.9c5.6-0.2,10-4.8,10-10.4c-0.2-5.4-4.6-9.7-10-9.7\n",
       "                    c-5.3-0.1-9.8,4.2-9.9,9.5C115,72.1,115,72.3,115,72.5z M19.5,62.3c-5.4,0.1-9.8,4.4-10,9.8c-0.1,5.1,5.2,10.4,10.2,10.3\n",
       "                    c5.6-0.2,10-4.9,9.8-10.5c-0.1-5.4-4.5-9.7-9.9-9.6C19.6,62.3,19.5,62.3,19.5,62.3z M71.8,134.6c5.9,0.2,10.3-3.9,10.4-9.6\n",
       "                    c0.5-5.5-3.6-10.4-9.1-10.8c-5.5-0.5-10.4,3.6-10.8,9.1c0,0.5,0,0.9,0,1.4c-0.2,5.3,4,9.8,9.3,10\n",
       "                    C71.6,134.6,71.7,134.6,71.8,134.6z\"/>\n",
       "            </g>\n",
       "        </svg>\n",
       "        <table>\n",
       "            <tr>\n",
       "                <td style=\"text-align: left\"><b>Python version:</b></td>\n",
       "                <td style=\"text-align: left\"><b>3.10.9</b></td>\n",
       "            </tr>\n",
       "            <tr>\n",
       "                <td style=\"text-align: left\"><b>Ray version:</b></td>\n",
       "                <td style=\"text-align: left\"><b> 2.3.0</b></td>\n",
       "            </tr>\n",
       "            <tr>\n",
       "    <td style=\"text-align: left\"><b>Dashboard:</b></td>\n",
       "    <td style=\"text-align: left\"><b><a href=\"http://127.0.0.1:8266\" target=\"_blank\">http://127.0.0.1:8266</a></b></td>\n",
       "</tr>\n",
       "\n",
       "        </table>\n",
       "    </div>\n",
       "</div>\n"
      ],
      "text/plain": [
       "RayContext(dashboard_url='127.0.0.1:8266', python_version='3.10.9', ray_version='2.3.0', ray_commit='cf7a56b4b0b648c324722df7c99c168e92ff0b45', address_info={'node_ip_address': '127.0.0.1', 'raylet_ip_address': '127.0.0.1', 'redis_address': None, 'object_store_address': '/tmp/ray/session_2023-08-14_18-28-23_842342_70551/sockets/plasma_store', 'raylet_socket_name': '/tmp/ray/session_2023-08-14_18-28-23_842342_70551/sockets/raylet', 'webui_url': '127.0.0.1:8266', 'session_dir': '/tmp/ray/session_2023-08-14_18-28-23_842342_70551', 'metrics_export_port': 58045, 'gcs_address': '127.0.0.1:55554', 'address': '127.0.0.1:55554', 'dashboard_agent_listen_port': 52365, 'node_id': '60785c3d21ea1a2599b2da669b9ce27cb874fecf1a90044223336c9d'})"
      ]
     },
     "execution_count": 1,
     "metadata": {},
     "output_type": "execute_result"
    }
   ],
   "source": [
    "# Hide code\n",
    "# Hide outputs\n",
    "import logging\n",
    "import random\n",
    "from typing import Tuple\n",
    "import numpy as np\n",
    "import pandas as pd\n",
    "import ray\n",
    "import torch\n",
    "\n",
    "if ray.is_initialized:\n",
    "    ray.shutdown()\n",
    "ray.init(logging_level=logging.ERROR)"
   ]
  },
  {
   "cell_type": "markdown",
   "id": "67a36ab9",
   "metadata": {
    "origin_pos": 2
   },
   "source": [
    "如 :numref:`put-get-object-store` 所示，操作 Remote Object 主要有 `ray.put()` 和 `ray.get()` 两个 API：`ray.put()` 与 `ray.get()` 。\n",
    "\n",
    "* `ray.put()` 把某个计算节点中的对象数据进行序列化，并将其写入到 Ray 集群的分布式对象存储中，返回一个 `RefObjectID`，`RefObjectID` 是指向这个 Remote Object 的指针。我们可以通过引用这个 `RefObjectID`，在 Remote Function 或 Remote Class 中分布式地使用这个数据对象。\n",
    "\n",
    "* `ray.get()` 使用 `RefObjectID` 从把数据从分布式对象存储中拉取回来，并进行反序列化。\n",
    "\n",
    "![对象存储分布在多个节点，通过 ray.put() 向集群写数据，通过 ray.get() 从集群读数据](../img/ch-ray-core/put-get-object-store.png)\n",
    ":width:`800px`\n",
    ":label:`put-get-object-store`\n"
   ]
  },
  {
   "cell_type": "code",
   "execution_count": 2,
   "id": "36f23339",
   "metadata": {
    "execution": {
     "iopub.execute_input": "2023-08-14T10:28:29.923015Z",
     "iopub.status.busy": "2023-08-14T10:28:29.920703Z",
     "iopub.status.idle": "2023-08-14T10:28:30.049972Z",
     "shell.execute_reply": "2023-08-14T10:28:30.048254Z"
    },
    "origin_pos": 3,
    "tab": [
     "ray"
    ]
   },
   "outputs": [
    {
     "data": {
      "text/plain": [
       "(ObjectRef(00ffffffffffffffffffffffffffffffffffffff0100000001000000), 15)"
      ]
     },
     "execution_count": 2,
     "metadata": {},
     "output_type": "execute_result"
    }
   ],
   "source": [
    "def create_rand_tensor(size: Tuple[int, int, int]) -> torch.tensor:\n",
    "    return torch.randn(size=(size), dtype=torch.float)\n",
    "\n",
    "torch.manual_seed(42)\n",
    "# 创建 16个 个机张量，每个张量大小为 (X, 8, 8)\n",
    "tensor_obj_ref_list = [ray.put(create_rand_tensor((i, 8, 8))) for i in range(1, 16)]\n",
    "tensor_obj_ref_list[0], len(tensor_obj_ref_list)"
   ]
  },
  {
   "cell_type": "markdown",
   "id": "c2a39402",
   "metadata": {
    "origin_pos": 4
   },
   "source": [
    "使用 `ray.get()` 从分布式对象存储中拉取数据。\n"
   ]
  },
  {
   "cell_type": "code",
   "execution_count": 3,
   "id": "c5213a29",
   "metadata": {
    "execution": {
     "iopub.execute_input": "2023-08-14T10:28:30.058352Z",
     "iopub.status.busy": "2023-08-14T10:28:30.057488Z",
     "iopub.status.idle": "2023-08-14T10:28:30.143564Z",
     "shell.execute_reply": "2023-08-14T10:28:30.141538Z"
    },
    "origin_pos": 5,
    "tab": [
     "ray"
    ]
   },
   "outputs": [
    {
     "data": {
      "text/plain": [
       "(torch.Size([1, 8, 8]),\n",
       " tensor([[[ 1.9269,  1.4873,  0.9007, -2.1055,  0.6784, -1.2345, -0.0431,\n",
       "           -1.6047],\n",
       "          [-0.7521,  1.6487, -0.3925, -1.4036, -0.7279, -0.5594, -0.7688,\n",
       "            0.7624],\n",
       "          [ 1.6423, -0.1596, -0.4974,  0.4396, -0.7581,  1.0783,  0.8008,\n",
       "            1.6806],\n",
       "          [ 1.2791,  1.2964,  0.6105,  1.3347, -0.2316,  0.0418, -0.2516,\n",
       "            0.8599],\n",
       "          [-1.3847, -0.8712, -0.2234,  1.7174,  0.3189, -0.4245,  0.3057,\n",
       "           -0.7746],\n",
       "          [-1.5576,  0.9956, -0.8798, -0.6011, -1.2742,  2.1228, -1.2347,\n",
       "           -0.4879],\n",
       "          [-0.9138, -0.6581,  0.0780,  0.5258, -0.4880,  1.1914, -0.8140,\n",
       "           -0.7360],\n",
       "          [-1.4032,  0.0360, -0.0635,  0.6756, -0.0978,  1.8446, -1.1845,\n",
       "            1.3835]]]))"
      ]
     },
     "execution_count": 3,
     "metadata": {},
     "output_type": "execute_result"
    }
   ],
   "source": [
    "val = ray.get(tensor_obj_ref_list[0])\n",
    "val.size(), val"
   ]
  },
  {
   "cell_type": "markdown",
   "id": "b22646c2",
   "metadata": {
    "origin_pos": 6
   },
   "source": [
    "或者把存放 `ObjectRefIDs` 列表的所有对象都拉取过来：\n"
   ]
  },
  {
   "cell_type": "code",
   "execution_count": 4,
   "id": "5666eb01",
   "metadata": {
    "execution": {
     "iopub.execute_input": "2023-08-14T10:28:30.151842Z",
     "iopub.status.busy": "2023-08-14T10:28:30.150853Z",
     "iopub.status.idle": "2023-08-14T10:28:30.167409Z",
     "shell.execute_reply": "2023-08-14T10:28:30.165680Z"
    },
    "origin_pos": 7,
    "tab": [
     "ray"
    ]
   },
   "outputs": [
    {
     "data": {
      "text/plain": [
       "(torch.Size([1, 8, 8]),\n",
       " tensor([[[ 1.9269,  1.4873,  0.9007, -2.1055,  0.6784, -1.2345, -0.0431,\n",
       "           -1.6047],\n",
       "          [-0.7521,  1.6487, -0.3925, -1.4036, -0.7279, -0.5594, -0.7688,\n",
       "            0.7624],\n",
       "          [ 1.6423, -0.1596, -0.4974,  0.4396, -0.7581,  1.0783,  0.8008,\n",
       "            1.6806],\n",
       "          [ 1.2791,  1.2964,  0.6105,  1.3347, -0.2316,  0.0418, -0.2516,\n",
       "            0.8599],\n",
       "          [-1.3847, -0.8712, -0.2234,  1.7174,  0.3189, -0.4245,  0.3057,\n",
       "           -0.7746],\n",
       "          [-1.5576,  0.9956, -0.8798, -0.6011, -1.2742,  2.1228, -1.2347,\n",
       "           -0.4879],\n",
       "          [-0.9138, -0.6581,  0.0780,  0.5258, -0.4880,  1.1914, -0.8140,\n",
       "           -0.7360],\n",
       "          [-1.4032,  0.0360, -0.0635,  0.6756, -0.0978,  1.8446, -1.1845,\n",
       "            1.3835]]]))"
      ]
     },
     "execution_count": 4,
     "metadata": {},
     "output_type": "execute_result"
    }
   ],
   "source": [
    "results = ray.get(tensor_obj_ref_list)\n",
    "results[0].size(), results[0]"
   ]
  },
  {
   "cell_type": "markdown",
   "id": "e6e4638d",
   "metadata": {
    "origin_pos": 8
   },
   "source": [
    "### 案例1：对数据进行转换\n",
    "\n",
    "Remote Object 的数据是不可原地更改的，比如下面的操作在单机的内存上可以，但是在 Remote Object 上，不可以直接在原地对 Remote Object 做更改。\n"
   ]
  },
  {
   "cell_type": "code",
   "execution_count": 5,
   "id": "207b8a90",
   "metadata": {
    "execution": {
     "iopub.execute_input": "2023-08-14T10:28:30.174491Z",
     "iopub.status.busy": "2023-08-14T10:28:30.173991Z",
     "iopub.status.idle": "2023-08-14T10:28:30.189453Z",
     "shell.execute_reply": "2023-08-14T10:28:30.187820Z"
    },
    "origin_pos": 9,
    "tab": [
     "ray"
    ]
   },
   "outputs": [
    {
     "data": {
      "text/plain": [
       "tensor([[[1., 1., 1., 1., 1., 1., 1., 1.],\n",
       "         [1., 1., 1., 1., 1., 1., 1., 1.],\n",
       "         [1., 1., 1., 1., 1., 1., 1., 1.],\n",
       "         [1., 1., 1., 1., 1., 1., 1., 1.],\n",
       "         [1., 1., 1., 1., 1., 1., 1., 1.],\n",
       "         [1., 1., 1., 1., 1., 1., 1., 1.],\n",
       "         [1., 1., 1., 1., 1., 1., 1., 1.],\n",
       "         [1., 1., 1., 1., 1., 1., 1., 1.]]])"
      ]
     },
     "execution_count": 5,
     "metadata": {},
     "output_type": "execute_result"
    }
   ],
   "source": [
    "a = torch.rand(size=(1, 8, 8))\n",
    "a[0] = torch.ones(8, 8)\n",
    "a"
   ]
  },
  {
   "cell_type": "markdown",
   "id": "9c3d6a28",
   "metadata": {
    "origin_pos": 10
   },
   "source": [
    "如果我们想使用新数据，应该使用 Remote Function 或者 Remote Class 对 Remote Object 进行转换操作，生成新的 Remote Object。\n"
   ]
  },
  {
   "cell_type": "code",
   "execution_count": 6,
   "id": "4d60543b",
   "metadata": {
    "execution": {
     "iopub.execute_input": "2023-08-14T10:28:30.197431Z",
     "iopub.status.busy": "2023-08-14T10:28:30.196825Z",
     "iopub.status.idle": "2023-08-14T10:28:30.310122Z",
     "shell.execute_reply": "2023-08-14T10:28:30.241418Z"
    },
    "origin_pos": 11,
    "tab": [
     "ray"
    ]
   },
   "outputs": [
    {
     "data": {
      "text/plain": [
       "28"
      ]
     },
     "execution_count": 6,
     "metadata": {},
     "output_type": "execute_result"
    }
   ],
   "source": [
    "@ray.remote\n",
    "def transform_tensor(tensor: torch.tensor) -> torch.tensor:\n",
    "    return torch.transpose(tensor, 0, 1)\n",
    "\n",
    "transformed_object_list = [transform_tensor.remote(t_obj_ref) for t_obj_ref in tensor_obj_ref_list]\n",
    "transformed_object_list[0].size()"
   ]
  },
  {
   "cell_type": "markdown",
   "id": "717f92e7",
   "metadata": {
    "origin_pos": 12
   },
   "source": [
    "### 传递参数\n",
    "\n",
    "Remote Object 可以通过 `RefObjectID` 在 Task、Actor 之间传递。\n",
    "\n",
    "#### 直接传递\n",
    "\n",
    "直接在 Task 或者 Actor 的函数调用时将 `RefObjectID` 作为参数传递进去。在下面这个例子中，`x_obj_ref` 是一个 `RefObjectID` ，`echo()` 这个 Remote Function 将自动从 `x_obj_ref` 获取 `x` 的值。这个自动获取值的过程被称为自动反引用（De-referenced）。\n"
   ]
  },
  {
   "cell_type": "code",
   "execution_count": 7,
   "id": "f43bc75f",
   "metadata": {
    "execution": {
     "iopub.execute_input": "2023-08-14T10:28:30.324410Z",
     "iopub.status.busy": "2023-08-14T10:28:30.323995Z",
     "iopub.status.idle": "2023-08-14T10:28:30.338087Z",
     "shell.execute_reply": "2023-08-14T10:28:30.335736Z"
    },
    "origin_pos": 13,
    "tab": [
     "ray"
    ]
   },
   "outputs": [
    {
     "data": {
      "text/plain": [
       "ObjectRef(00ffffffffffffffffffffffffffffffffffffff0100000010000000)"
      ]
     },
     "execution_count": 7,
     "metadata": {},
     "output_type": "execute_result"
    }
   ],
   "source": [
    "@ray.remote\n",
    "def echo(x):\n",
    "    print(f\"current value of argument x: {x}\")\n",
    "    return x\n",
    "\n",
    "x = list(range(5))\n",
    "x_obj_ref = ray.put(x)\n",
    "x_obj_ref"
   ]
  },
  {
   "cell_type": "code",
   "execution_count": 8,
   "id": "7f993426",
   "metadata": {
    "execution": {
     "iopub.execute_input": "2023-08-14T10:28:30.345571Z",
     "iopub.status.busy": "2023-08-14T10:28:30.344803Z",
     "iopub.status.idle": "2023-08-14T10:28:34.985166Z",
     "shell.execute_reply": "2023-08-14T10:28:34.983544Z"
    },
    "origin_pos": 14,
    "tab": [
     "ray"
    ]
   },
   "outputs": [
    {
     "data": {
      "text/plain": [
       "[0, 1, 2, 3, 4]"
      ]
     },
     "execution_count": 8,
     "metadata": {},
     "output_type": "execute_result"
    }
   ],
   "source": [
    "ray.get(echo.remote(x_obj_ref))"
   ]
  },
  {
   "cell_type": "code",
   "execution_count": 9,
   "id": "9a01df1e",
   "metadata": {
    "execution": {
     "iopub.execute_input": "2023-08-14T10:28:34.991259Z",
     "iopub.status.busy": "2023-08-14T10:28:34.990728Z",
     "iopub.status.idle": "2023-08-14T10:28:35.001069Z",
     "shell.execute_reply": "2023-08-14T10:28:34.999410Z"
    },
    "origin_pos": 15,
    "tab": [
     "ray"
    ]
   },
   "outputs": [
    {
     "data": {
      "text/plain": [
       "[0, 1, 2, 3, 4]"
      ]
     },
     "execution_count": 9,
     "metadata": {},
     "output_type": "execute_result"
    }
   ],
   "source": [
    "ray.get(echo.remote(x))"
   ]
  },
  {
   "cell_type": "markdown",
   "id": "5d8bc13a",
   "metadata": {
    "origin_pos": 16
   },
   "source": [
    "#### 复杂数据结构\n",
    "\n",
    "如果 `RefObjectID` 被包裹在一个复杂的数据结构中，Ray 并不会自动获取 `RefObjectID` 对应的值，即 De-referenced 并不是自动的。复杂数据结构包括：\n",
    "\n",
    "* `RefObjectID` 被包裹在一个 `dict` 中，比如：`.remote({\"obj\": x_obj_ref})`\n",
    "* `RefObjectID` 被包裹在一个 `list` 中，比如：`.remote([x_obj_ref])`\n"
   ]
  },
  {
   "cell_type": "code",
   "execution_count": 10,
   "id": "be3fb0e0",
   "metadata": {
    "execution": {
     "iopub.execute_input": "2023-08-14T10:28:35.005203Z",
     "iopub.status.busy": "2023-08-14T10:28:35.004680Z",
     "iopub.status.idle": "2023-08-14T10:28:35.016134Z",
     "shell.execute_reply": "2023-08-14T10:28:35.014778Z"
    },
    "origin_pos": 17,
    "tab": [
     "ray"
    ]
   },
   "outputs": [
    {
     "data": {
      "text/plain": [
       "{'obj': ObjectRef(00ffffffffffffffffffffffffffffffffffffff0100000010000000)}"
      ]
     },
     "execution_count": 10,
     "metadata": {},
     "output_type": "execute_result"
    }
   ],
   "source": [
    "ray.get(echo.remote({\"obj\": x_obj_ref}))"
   ]
  },
  {
   "cell_type": "code",
   "execution_count": 11,
   "id": "19ee5717",
   "metadata": {
    "execution": {
     "iopub.execute_input": "2023-08-14T10:28:35.020425Z",
     "iopub.status.busy": "2023-08-14T10:28:35.020061Z",
     "iopub.status.idle": "2023-08-14T10:28:35.029955Z",
     "shell.execute_reply": "2023-08-14T10:28:35.029113Z"
    },
    "origin_pos": 18,
    "tab": [
     "ray"
    ]
   },
   "outputs": [
    {
     "name": "stdout",
     "output_type": "stream",
     "text": [
      "\u001b[2m\u001b[36m(echo pid=70968)\u001b[0m current value of argument x: [0, 1, 2, 3, 4]\n",
      "\u001b[2m\u001b[36m(echo pid=70962)\u001b[0m current value of argument x: [0, 1, 2, 3, 4]\n",
      "\u001b[2m\u001b[36m(echo pid=70963)\u001b[0m current value of argument x: {'obj': ObjectRef(00ffffffffffffffffffffffffffffffffffffff0100000010000000)}\n",
      "\u001b[2m\u001b[36m(echo pid=70963)\u001b[0m current value of argument x: [ObjectRef(00ffffffffffffffffffffffffffffffffffffff0100000010000000)]\n"
     ]
    },
    {
     "data": {
      "text/plain": [
       "[ObjectRef(00ffffffffffffffffffffffffffffffffffffff0100000010000000)]"
      ]
     },
     "execution_count": 11,
     "metadata": {},
     "output_type": "execute_result"
    }
   ],
   "source": [
    "ray.get(echo.remote([x_obj_ref]))"
   ]
  },
  {
   "cell_type": "markdown",
   "id": "693e64d2",
   "metadata": {
    "origin_pos": 19
   },
   "source": [
    "### 底层实现\n",
    "\n",
    "Ray 集群的每个计算节点都有一个基于共享内存的对象存储， Remote Object 的数据会存储在集群某个或者某些计算节点的对象存储中，所有计算节点的共享内存共同组成了分布式对象存储。\n",
    "\n",
    "当某个 Remote Object 的数据量较小时（<= 100 KB），它会被存储在计算节点进程内存中；当数据量较大时，它会被存储在分布式的共享内存中；当集群的共享内存的空间不够时，数据会被外溢（Spill）到持久化的存储上，比如硬盘或者S3。\n"
   ]
  },
  {
   "cell_type": "code",
   "execution_count": 12,
   "id": "b19d6dc4",
   "metadata": {
    "execution": {
     "iopub.execute_input": "2023-08-14T10:28:35.033400Z",
     "iopub.status.busy": "2023-08-14T10:28:35.033105Z",
     "iopub.status.idle": "2023-08-14T10:28:37.705302Z",
     "shell.execute_reply": "2023-08-14T10:28:37.703637Z"
    },
    "origin_pos": 20,
    "tab": [
     "ray"
    ]
   },
   "outputs": [],
   "source": [
    "# Hide code\n",
    "ray.shutdown()"
   ]
  }
 ],
 "metadata": {
  "language_info": {
   "name": "python"
  },
  "required_libs": []
 },
 "nbformat": 4,
 "nbformat_minor": 5
}
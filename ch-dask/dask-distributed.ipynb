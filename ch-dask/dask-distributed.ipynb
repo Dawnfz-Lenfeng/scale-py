{
 "cells": [
  {
   "cell_type": "markdown",
   "metadata": {},
   "source": [
    "# 将 Dask 扩展到集群\n",
    "\n",
    "刚刚的任务都是在单机场景下使用 Dask，如果我们想把 Dask 任务扩展到多台计算节点，需要借助 `dask.distributed` 库。"
   ]
  }
 ],
 "metadata": {
  "language_info": {
   "name": "python"
  }
 },
 "nbformat": 4,
 "nbformat_minor": 2
}

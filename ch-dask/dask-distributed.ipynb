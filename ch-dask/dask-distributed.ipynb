{
 "cells": [
  {
   "cell_type": "markdown",
   "metadata": {},
   "source": [
    "# 将 Dask 扩展到集群\n",
    "\n",
    "刚刚的任务都是在单机场景下使用 Dask，`dask.distributed` 可以帮助我们把 Dask 任务扩展到多台计算节点。\n",
    "\n",
    "如 {numref}`dask-distributed` 所示，一个 Dask 集群必须包含一个调度器（Scheduler）和多个工作节点（Worker）。用户通过客户端（Client）向调度器提交计算任务，调度器对任务进行分析，生成 Task Graph，并将 Task 分发到多个 Worker 上。每个 Worker 承担一小部分计算任务，Worker 之间也要互相通信，比如计算结果的归集等。\n",
    "\n",
    "```{figure} ../img/ch-dask/dask-distributed.svg\n",
    "---\n",
    "width: 800px\n",
    "name: dask-distributed\n",
    "---\n",
    "Dask Distributed\n",
    "```\n",
    "\n",
    "\n",
    "Scheduler 和 Worker 共同组成了一个 Dask 集群。"
   ]
  }
 ],
 "metadata": {
  "language_info": {
   "name": "python"
  }
 },
 "nbformat": 4,
 "nbformat_minor": 2
}

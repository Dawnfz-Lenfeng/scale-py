{
 "cells": [
  {
   "cell_type": "markdown",
   "id": "0dbf8b97",
   "metadata": {
    "origin_pos": 0
   },
   "source": [
    "(remote-class)=\n",
    "# Ray Remote Classes\n",
    "\n",
    "The example in {numref}`remote-function` demonstrates how to scale a stateless function. However, in real-world scenarios, there is often a need for stateful computations. The simplest form of stateful computation involves maintaining a counter that increments upon a specific condition. Different from stateless functions, stateful computations may not yield deterministic outputs for a given input, as the output is also dependent on the state.\n",
    "To implement stateful computations, Ray introduces Remote Classes, also known as Actors. Actors, named after the actor programming model {cite}`hewitt1973Universal`, are a common paradigm in distributed computing, widely applied in big data and artificial intelligence domains. We will start by exploring a case study involving a counter to illustrate it."
   ]
  },
  {
   "cell_type": "markdown",
   "id": "34dac757",
   "metadata": {},
   "source": [
    "## Example 1: Distributed Counter"
   ]
  },
  {
   "cell_type": "code",
   "execution_count": 1,
   "id": "c158da7a",
   "metadata": {
    "execution": {
     "iopub.execute_input": "2023-08-14T10:28:19.639823Z",
     "iopub.status.busy": "2023-08-14T10:28:19.639437Z",
     "iopub.status.idle": "2023-08-14T10:28:26.747308Z",
     "shell.execute_reply": "2023-08-14T10:28:26.745809Z"
    },
    "origin_pos": 1,
    "tab": [
     "ray"
    ],
    "tags": [
     "hide-cell"
    ]
   },
   "outputs": [
    {
     "data": {
      "application/vnd.jupyter.widget-view+json": {
       "model_id": "09ed7e5b95d94c6a9f84151d38b6aa58",
       "version_major": 2,
       "version_minor": 0
      },
      "text/html": [
       "<div class=\"lm-Widget p-Widget lm-Panel p-Panel jp-Cell-outputWrapper\">\n",
       "    <div style=\"margin-left: 50px;display: flex;flex-direction: row;align-items: center\">\n",
       "        <div class=\"jp-RenderedHTMLCommon\" style=\"display: flex; flex-direction: row;\">\n",
       "  <svg viewBox=\"0 0 567 224\" fill=\"none\" xmlns=\"http://www.w3.org/2000/svg\" style=\"height: 3em;\">\n",
       "    <g clip-path=\"url(#clip0_4338_178347)\">\n",
       "        <path d=\"M341.29 165.561H355.29L330.13 129.051C345.63 123.991 354.21 112.051 354.21 94.2307C354.21 71.3707 338.72 58.1807 311.88 58.1807H271V165.561H283.27V131.661H311.8C314.25 131.661 316.71 131.501 319.01 131.351L341.25 165.561H341.29ZM283.29 119.851V70.0007H311.82C331.3 70.0007 342.34 78.2907 342.34 94.5507C342.34 111.271 331.34 119.861 311.82 119.861L283.29 119.851ZM451.4 138.411L463.4 165.561H476.74L428.74 58.1807H416L367.83 165.561H380.83L392.83 138.411H451.4ZM446.19 126.601H398L422 72.1407L446.24 126.601H446.19ZM526.11 128.741L566.91 58.1807H554.35L519.99 114.181L485.17 58.1807H472.44L514.01 129.181V165.541H526.13V128.741H526.11Z\" fill=\"var(--jp-ui-font-color0)\"/>\n",
       "        <path d=\"M82.35 104.44C84.0187 97.8827 87.8248 92.0678 93.1671 87.9146C98.5094 83.7614 105.083 81.5067 111.85 81.5067C118.617 81.5067 125.191 83.7614 130.533 87.9146C135.875 92.0678 139.681 97.8827 141.35 104.44H163.75C164.476 101.562 165.622 98.8057 167.15 96.2605L127.45 56.5605C121.071 60.3522 113.526 61.6823 106.235 60.3005C98.9443 58.9187 92.4094 54.9203 87.8602 49.0574C83.3109 43.1946 81.0609 35.8714 81.5332 28.4656C82.0056 21.0599 85.1679 14.0819 90.4252 8.8446C95.6824 3.60726 102.672 0.471508 110.08 0.0272655C117.487 -0.416977 124.802 1.86091 130.647 6.4324C136.493 11.0039 140.467 17.5539 141.821 24.8501C143.175 32.1463 141.816 39.6859 138 46.0505L177.69 85.7505C182.31 82.9877 187.58 81.4995 192.962 81.4375C198.345 81.3755 203.648 82.742 208.33 85.3976C213.012 88.0532 216.907 91.9029 219.616 96.5544C222.326 101.206 223.753 106.492 223.753 111.875C223.753 117.258 222.326 122.545 219.616 127.197C216.907 131.848 213.012 135.698 208.33 138.353C203.648 141.009 198.345 142.375 192.962 142.313C187.58 142.251 182.31 140.763 177.69 138L138 177.7C141.808 184.071 143.155 191.614 141.79 198.91C140.424 206.205 136.44 212.75 130.585 217.313C124.731 221.875 117.412 224.141 110.004 223.683C102.596 223.226 95.6103 220.077 90.3621 214.828C85.1139 209.58 81.9647 202.595 81.5072 195.187C81.0497 187.779 83.3154 180.459 87.878 174.605C92.4405 168.751 98.9853 164.766 106.281 163.401C113.576 162.035 121.119 163.383 127.49 167.19L167.19 127.49C165.664 124.941 164.518 122.182 163.79 119.3H141.39C139.721 125.858 135.915 131.673 130.573 135.826C125.231 139.98 118.657 142.234 111.89 142.234C105.123 142.234 98.5494 139.98 93.2071 135.826C87.8648 131.673 84.0587 125.858 82.39 119.3H60C58.1878 126.495 53.8086 132.78 47.6863 136.971C41.5641 141.163 34.1211 142.972 26.7579 142.059C19.3947 141.146 12.6191 137.574 7.70605 132.014C2.79302 126.454 0.0813599 119.29 0.0813599 111.87C0.0813599 104.451 2.79302 97.2871 7.70605 91.7272C12.6191 86.1673 19.3947 82.5947 26.7579 81.6817C34.1211 80.7686 41.5641 82.5781 47.6863 86.7696C53.8086 90.9611 58.1878 97.2456 60 104.44H82.35ZM100.86 204.32C103.407 206.868 106.759 208.453 110.345 208.806C113.93 209.159 117.527 208.258 120.522 206.256C123.517 204.254 125.725 201.276 126.771 197.828C127.816 194.38 127.633 190.677 126.253 187.349C124.874 184.021 122.383 181.274 119.205 179.577C116.027 177.88 112.359 177.337 108.826 178.042C105.293 178.746 102.113 180.654 99.8291 183.44C97.5451 186.226 96.2979 189.718 96.3 193.32C96.2985 195.364 96.7006 197.388 97.4831 199.275C98.2656 201.163 99.4132 202.877 100.86 204.32ZM204.32 122.88C206.868 120.333 208.453 116.981 208.806 113.396C209.159 109.811 208.258 106.214 206.256 103.219C204.254 100.223 201.275 98.0151 197.827 96.97C194.38 95.9249 190.676 96.1077 187.348 97.4873C184.02 98.8669 181.274 101.358 179.577 104.536C177.879 107.714 177.337 111.382 178.041 114.915C178.746 118.448 180.653 121.627 183.439 123.911C186.226 126.195 189.717 127.443 193.32 127.44C195.364 127.443 197.388 127.042 199.275 126.259C201.163 125.476 202.878 124.328 204.32 122.88ZM122.88 19.4205C120.333 16.8729 116.981 15.2876 113.395 14.9347C109.81 14.5817 106.213 15.483 103.218 17.4849C100.223 19.4868 98.0146 22.4654 96.9696 25.9131C95.9245 29.3608 96.1073 33.0642 97.4869 36.3922C98.8665 39.7202 101.358 42.4668 104.535 44.1639C107.713 45.861 111.381 46.4036 114.914 45.6992C118.447 44.9949 121.627 43.0871 123.911 40.301C126.195 37.515 127.442 34.0231 127.44 30.4205C127.44 28.3772 127.038 26.3539 126.255 24.4664C125.473 22.5788 124.326 20.8642 122.88 19.4205ZM19.42 100.86C16.8725 103.408 15.2872 106.76 14.9342 110.345C14.5813 113.93 15.4826 117.527 17.4844 120.522C19.4863 123.518 22.4649 125.726 25.9127 126.771C29.3604 127.816 33.0638 127.633 36.3918 126.254C39.7198 124.874 42.4664 122.383 44.1635 119.205C45.8606 116.027 46.4032 112.359 45.6988 108.826C44.9944 105.293 43.0866 102.114 40.3006 99.8296C37.5145 97.5455 34.0227 96.2983 30.42 96.3005C26.2938 96.3018 22.337 97.9421 19.42 100.86ZM100.86 100.86C98.3125 103.408 96.7272 106.76 96.3742 110.345C96.0213 113.93 96.9226 117.527 98.9244 120.522C100.926 123.518 103.905 125.726 107.353 126.771C110.8 127.816 114.504 127.633 117.832 126.254C121.16 124.874 123.906 122.383 125.604 119.205C127.301 116.027 127.843 112.359 127.139 108.826C126.434 105.293 124.527 102.114 121.741 99.8296C118.955 97.5455 115.463 96.2983 111.86 96.3005C109.817 96.299 107.793 96.701 105.905 97.4835C104.018 98.2661 102.303 99.4136 100.86 100.86Z\" fill=\"#00AEEF\"/>\n",
       "    </g>\n",
       "    <defs>\n",
       "        <clipPath id=\"clip0_4338_178347\">\n",
       "            <rect width=\"566.93\" height=\"223.75\" fill=\"white\"/>\n",
       "        </clipPath>\n",
       "    </defs>\n",
       "  </svg>\n",
       "</div>\n",
       "\n",
       "        <table class=\"jp-RenderedHTMLCommon\" style=\"border-collapse: collapse;color: var(--jp-ui-font-color1);font-size: var(--jp-ui-font-size1);\">\n",
       "    <tr>\n",
       "        <td style=\"text-align: left\"><b>Python version:</b></td>\n",
       "        <td style=\"text-align: left\"><b>3.11.7</b></td>\n",
       "    </tr>\n",
       "    <tr>\n",
       "        <td style=\"text-align: left\"><b>Ray version:</b></td>\n",
       "        <td style=\"text-align: left\"><b>2.9.0</b></td>\n",
       "    </tr>\n",
       "    \n",
       "</table>\n",
       "\n",
       "    </div>\n",
       "</div>\n"
      ],
      "text/plain": [
       "RayContext(dashboard_url='', python_version='3.11.7', ray_version='2.9.0', ray_commit='9be5a16e3ccad0710bba08d0f75e9ff774ae6880', protocol_version=None)"
      ]
     },
     "execution_count": 1,
     "metadata": {},
     "output_type": "execute_result"
    }
   ],
   "source": [
    "import logging\n",
    "from typing import Dict, List, Tuple\n",
    "import ray\n",
    "\n",
    "if ray.is_initialized:\n",
    "    ray.shutdown()\n",
    "ray.init(logging_level=logging.ERROR)"
   ]
  },
  {
   "cell_type": "markdown",
   "id": "ca5c24ca",
   "metadata": {
    "origin_pos": 2
   },
   "source": [
    "Ray's remote class is decorated using [`ray.remote()`](https://docs.ray.io/en/latest/ray-core/api/doc/ray.remote.html)."
   ]
  },
  {
   "cell_type": "code",
   "execution_count": 2,
   "id": "fc16472e",
   "metadata": {
    "execution": {
     "iopub.execute_input": "2023-08-14T10:28:26.798161Z",
     "iopub.status.busy": "2023-08-14T10:28:26.796992Z",
     "iopub.status.idle": "2023-08-14T10:28:26.805691Z",
     "shell.execute_reply": "2023-08-14T10:28:26.804816Z"
    },
    "origin_pos": 3,
    "tab": [
     "ray"
    ]
   },
   "outputs": [],
   "source": [
    "@ray.remote\n",
    "class Counter:\n",
    "    def __init__(self):\n",
    "        self.value = 0\n",
    "\n",
    "    def increment(self):\n",
    "        self.value += 1\n",
    "        return self.value\n",
    "\n",
    "    def get_counter(self):\n",
    "        return self.value"
   ]
  },
  {
   "cell_type": "markdown",
   "id": "fd0e3c9e",
   "metadata": {
    "origin_pos": 4
   },
   "source": [
    "Initialize an object instance of this remote class by adding `remote()` after the class name `Counter`. The object instance is a remote actor."
   ]
  },
  {
   "cell_type": "code",
   "execution_count": 3,
   "id": "d3231f57",
   "metadata": {
    "execution": {
     "iopub.execute_input": "2023-08-14T10:28:26.809551Z",
     "iopub.status.busy": "2023-08-14T10:28:26.809194Z",
     "iopub.status.idle": "2023-08-14T10:28:26.825195Z",
     "shell.execute_reply": "2023-08-14T10:28:26.824337Z"
    },
    "origin_pos": 5,
    "tab": [
     "ray"
    ]
   },
   "outputs": [],
   "source": [
    "counter = Counter.remote()"
   ]
  },
  {
   "cell_type": "markdown",
   "id": "05e34058",
   "metadata": {
    "origin_pos": 6
   },
   "source": [
    "Next, we'll call the `increment()` function of the `Counter` class. This function should also be called with `remote()`. Calling functions on an object instance should look like `object_instance.function_name.remote()`."
   ]
  },
  {
   "cell_type": "code",
   "execution_count": 4,
   "id": "1d627911",
   "metadata": {
    "execution": {
     "iopub.execute_input": "2023-08-14T10:28:26.828944Z",
     "iopub.status.busy": "2023-08-14T10:28:26.828621Z",
     "iopub.status.idle": "2023-08-14T10:28:29.538369Z",
     "shell.execute_reply": "2023-08-14T10:28:29.537343Z"
    },
    "origin_pos": 7,
    "tab": [
     "ray"
    ]
   },
   "outputs": [
    {
     "name": "stdout",
     "output_type": "stream",
     "text": [
      "1\n"
     ]
    }
   ],
   "source": [
    "obj_ref = counter.increment.remote()\n",
    "print(ray.get(obj_ref))"
   ]
  },
  {
   "cell_type": "markdown",
   "id": "cb986d67",
   "metadata": {
    "origin_pos": 8
   },
   "source": [
    "It's worth noting that multiple instances of actors can be created using the same class. Different actors can be executed in parallel, offering concurrency. However, within the same actor, member function calls are executed sequentially."
   ]
  },
  {
   "cell_type": "code",
   "execution_count": 5,
   "id": "332d3cd3",
   "metadata": {
    "execution": {
     "iopub.execute_input": "2023-08-14T10:28:29.543247Z",
     "iopub.status.busy": "2023-08-14T10:28:29.542664Z",
     "iopub.status.idle": "2023-08-14T10:28:35.505728Z",
     "shell.execute_reply": "2023-08-14T10:28:35.505082Z"
    },
    "origin_pos": 9,
    "tab": [
     "ray"
    ]
   },
   "outputs": [
    {
     "name": "stdout",
     "output_type": "stream",
     "text": [
      "[1, 1, 1, 1, 1, 1, 1, 1, 1, 1]\n"
     ]
    }
   ],
   "source": [
    "# create 10 actor instances\n",
    "counters = [Counter.remote() for _ in range(10)]\n",
    "\n",
    "# call increment of every actor\n",
    "# these function callings can be executed in parallel\n",
    "results = ray.get([c.increment.remote() for c in counters])\n",
    "print(results)"
   ]
  },
  {
   "cell_type": "markdown",
   "id": "5a0afba3",
   "metadata": {
    "origin_pos": 10
   },
   "source": [
    "Within the same actor instance, state is shared. Shared state implies that an actor may be scheduled across different nodes, and no matter which node it is scheduled to, any operation on the actor instance behaves just like operations on a single-node Python class. The data in the member variables of the object instance is accessible, modifiable, and updated in real-time."
   ]
  },
  {
   "cell_type": "code",
   "execution_count": 6,
   "id": "9c8fa1d9",
   "metadata": {
    "execution": {
     "iopub.execute_input": "2023-08-14T10:28:35.509211Z",
     "iopub.status.busy": "2023-08-14T10:28:35.508941Z",
     "iopub.status.idle": "2023-08-14T10:28:35.514698Z",
     "shell.execute_reply": "2023-08-14T10:28:35.514060Z"
    },
    "origin_pos": 11,
    "tab": [
     "ray"
    ]
   },
   "outputs": [
    {
     "name": "stdout",
     "output_type": "stream",
     "text": [
      "[2, 3, 4, 5, 6]\n"
     ]
    }
   ],
   "source": [
    "# perform 5 increment operations on the first Actor\n",
    "# these 5 increment operations are sequentially executed, sharing the state data 'value'\n",
    "results = ray.get([counters[0].increment.remote() for _ in range(5)])\n",
    "print(results)"
   ]
  },
  {
   "cell_type": "markdown",
   "id": "10931c80",
   "metadata": {
    "origin_pos": 12
   },
   "source": [
    "## Actor Programming Model\n",
    "\n",
    "The actor programming model is a paradigm for distributed programming, and each programming language or framework has its own implementation. The fundamental element of the Actor programming model is the actor instance, where each actor instance is unique. An individual actor instance can be seen as a process with an address. Each actor has an address, allowing us to send messages to this actor from other actors, similar to sending messages using email addresses. An actor can have one or multiple addresses, and multiple actors can share the same address. The actor addresses depend on how we want to send and receive data. Multiple actors sharing the same address is analogous to a group email address in a company, where the group includes multiple people. Sending an email to this group address allows every individual in the group to receive the message.\n",
    "\n",
    "With an address and memory space, an actor can:\n",
    "\n",
    "* Store data, such as state data.\n",
    "* Receive messages from other actors.\n",
    "* Send messages to other actors.\n",
    "* Create new actors.\n",
    "\n",
    "An actor's state data can only be managed by the actor itself and cannot be modified by other actors. This is somewhat similar to instances of classes in object-oriented programming languages. If we want to modify the data inside an actor, we should send a message to the actor. The actor, upon receiving the message, makes decisions based on its stored data, deciding whether to modify the state data or send messages to other actors. In the counter example, the actor receives the `increment()` message and, based on its stored state, performs the increment operation.\n",
    "\n",
    "To ensure consistency in the distributed environment, multiple requests sent to the same actor are executed sequentially. In the counter example, performing 5 `increment()` operations on the same actor are executed sequentially.\n",
    "\n",
    "The actor programming model is message-driven. Sending a message to an actor prompts it to respond by modifying its own state or to send messages to other actors. The actor programming model does not require explicit synchronization of data between multiple processes, avoiding lock issues and the waiting time for synchronization. This makes the actor programming model suitable for scenarios involving a large number of asynchronous operations."
   ]
  },
  {
   "cell_type": "markdown",
   "id": "5aecf513",
   "metadata": {},
   "source": [
    "## Example 2: Leaderboard Ranking\n",
    "\n",
    "Next, let's implement a more complex case based on the actor model: a leaderboard. The state of this leaderboard is a key-value pair named `board`. The keys are names (`name`), stored as `str`, and the values are scores (`score`), stored as `float`."
   ]
  },
  {
   "cell_type": "code",
   "execution_count": 7,
   "id": "c731c869",
   "metadata": {
    "execution": {
     "iopub.execute_input": "2023-08-14T10:28:35.518053Z",
     "iopub.status.busy": "2023-08-14T10:28:35.517783Z",
     "iopub.status.idle": "2023-08-14T10:28:35.525393Z",
     "shell.execute_reply": "2023-08-14T10:28:35.524639Z"
    },
    "origin_pos": 13,
    "tab": [
     "ray"
    ]
   },
   "outputs": [],
   "source": [
    "@ray.remote\n",
    "class Ranking:\n",
    "    def __init__(self, minimal_score: float = 60.0):\n",
    "        self.minimal = minimal_score\n",
    "        self.board = dict()\n",
    "\n",
    "    def add(self, name: str, score: float) -> Dict[str, float]:\n",
    "        try:\n",
    "            score = float(score)\n",
    "            if score < self.minimal:\n",
    "                return\n",
    "            if name in self.board:\n",
    "                self.board[name] = max(score, self.board[name])\n",
    "            else:\n",
    "                self.board[name] = score\n",
    "            self.board = dict(sorted(self.board.items(), key=lambda item: item[1]))\n",
    "            return self.board\n",
    "        except Exception as e:\n",
    "            print(f\"The data type of score should be float but we receive {type(score)}.\")\n",
    "            return self.board\n",
    "\n",
    "    def top(self, n: int = 1) -> List[Tuple[str, float]]:\n",
    "        n = min(n, len(self.board))\n",
    "        results = list(self.board.items())[:n]\n",
    "        return results\n",
    "\n",
    "    def pop(self) -> Dict[str, float]:\n",
    "        if len(self.board) <= 0:\n",
    "            raise Exception(\"The board is empty.\")\n",
    "        else:\n",
    "            _, _ = self.board.popitem()\n",
    "        return self.board"
   ]
  },
  {
   "cell_type": "markdown",
   "id": "20d46cc5",
   "metadata": {
    "origin_pos": 14
   },
   "source": [
    "In this leaderboard example, there are three functions:\n",
    "\n",
    "* `__init__()`: Constructor.\n",
    "* `add()`: Adds a new record, parsing the input. If the `score` cannot be converted to `float`, an exception is thrown. After a record is added, sort all the existing items.\n",
    "* `pop()`: Removes the record with the highest score. If `board` is empty, an exception is thrown.\n",
    "\n",
    "`.remote()` is used to create an instance of the actor."
   ]
  },
  {
   "cell_type": "code",
   "execution_count": 8,
   "id": "2be74150",
   "metadata": {
    "execution": {
     "iopub.execute_input": "2023-08-14T10:28:35.529318Z",
     "iopub.status.busy": "2023-08-14T10:28:35.528613Z",
     "iopub.status.idle": "2023-08-14T10:28:35.538228Z",
     "shell.execute_reply": "2023-08-14T10:28:35.537334Z"
    },
    "origin_pos": 15,
    "tab": [
     "ray"
    ]
   },
   "outputs": [],
   "source": [
    "# create the ranking\n",
    "ranking = Ranking.remote()"
   ]
  },
  {
   "cell_type": "markdown",
   "id": "6fcf665e",
   "metadata": {
    "origin_pos": 16
   },
   "source": [
    "Here, `ranking` is an actor reference (actor handle), somewhat resembling `ObjectRef`. We use the `ranking` actor handle to manage the associated actor. Once the actor handle is destroyed, the corresponding actor and its state are also destroyed.\n",
    "\n",
    "Multiple actor instances can be created, with each instance managing its own state. Additionally, [`ActorClass.options`](https://docs.ray.io/en/latest/ray-core/api/doc/ray.actor.ActorClass.options.html) can be used to set options for these Actor instances, such as naming, and configuring CPU or GPU computing resources."
   ]
  },
  {
   "cell_type": "code",
   "execution_count": 9,
   "id": "86976b73",
   "metadata": {
    "execution": {
     "iopub.execute_input": "2023-08-14T10:28:35.542515Z",
     "iopub.status.busy": "2023-08-14T10:28:35.542189Z",
     "iopub.status.idle": "2023-08-14T10:28:35.554633Z",
     "shell.execute_reply": "2023-08-14T10:28:35.553236Z"
    },
    "origin_pos": 17,
    "tab": [
     "ray"
    ]
   },
   "outputs": [],
   "source": [
    "# create a math leaderboard 'math_ranking'\n",
    "# independent of the previously created 'ranking'\n",
    "math_ranking = Ranking.remote(minimal_score=80)\n",
    "\n",
    "# create a chemistry leaderboard 'chem_ranking'\n",
    "chem_ranking = Ranking.options(name=\"Chemistry\").remote()"
   ]
  },
  {
   "cell_type": "markdown",
   "id": "2d7d9844",
   "metadata": {
    "origin_pos": 18
   },
   "source": [
    "The actor handle can be obtained using [`ray.get_actor()`](https://docs.ray.io/en/latest/ray-core/api/doc/ray.get_actor.html) with the name."
   ]
  },
  {
   "cell_type": "code",
   "execution_count": 10,
   "id": "77a7e13d",
   "metadata": {
    "execution": {
     "iopub.execute_input": "2023-08-14T10:28:35.559274Z",
     "iopub.status.busy": "2023-08-14T10:28:35.558935Z",
     "iopub.status.idle": "2023-08-14T10:28:35.566079Z",
     "shell.execute_reply": "2023-08-14T10:28:35.564888Z"
    },
    "origin_pos": 19,
    "tab": [
     "ray"
    ]
   },
   "outputs": [],
   "source": [
    "# get the 'Chemistry' actor handle\n",
    "cr = ray.get_actor(\"Chemistry\")"
   ]
  },
  {
   "cell_type": "markdown",
   "id": "25fad3b7",
   "metadata": {
    "origin_pos": 20
   },
   "source": [
    "Add a new record to the `ranking` leaderboard by calling the 'add()' function. Remember to include `.remote()` when invoking class member functions, or an error will occur."
   ]
  },
  {
   "cell_type": "code",
   "execution_count": 11,
   "id": "9f4331f8",
   "metadata": {
    "execution": {
     "iopub.execute_input": "2023-08-14T10:28:35.571587Z",
     "iopub.status.busy": "2023-08-14T10:28:35.571008Z",
     "iopub.status.idle": "2023-08-14T10:28:36.512335Z",
     "shell.execute_reply": "2023-08-14T10:28:36.511112Z"
    },
    "origin_pos": 21,
    "tab": [
     "ray"
    ]
   },
   "outputs": [
    {
     "name": "stdout",
     "output_type": "stream",
     "text": [
      "Current ranking: [('Bob', 60.0), ('Alice', 90.0)]\n"
     ]
    }
   ],
   "source": [
    "# add new records\n",
    "ranking.add.remote(\"Alice\", 90)\n",
    "ranking.add.remote(\"Bob\", 60)\n",
    "\n",
    "print(f\"Current ranking: {ray.get(ranking.top.remote(3))}\")"
   ]
  },
  {
   "cell_type": "code",
   "execution_count": 12,
   "id": "997d6df5",
   "metadata": {
    "execution": {
     "iopub.execute_input": "2023-08-14T10:28:36.517441Z",
     "iopub.status.busy": "2023-08-14T10:28:36.517049Z",
     "iopub.status.idle": "2023-08-14T10:28:36.524237Z",
     "shell.execute_reply": "2023-08-14T10:28:36.523339Z"
    },
    "origin_pos": 22,
    "tab": [
     "ray"
    ]
   },
   "outputs": [
    {
     "data": {
      "text/plain": [
       "{'Bob': 60.0, 'Alice': 90.0}"
      ]
     },
     "execution_count": 12,
     "metadata": {},
     "output_type": "execute_result"
    }
   ],
   "source": [
    "ray.get(ranking.add.remote(\"Mark\", 'a88'))"
   ]
  },
  {
   "cell_type": "markdown",
   "id": "c1deb393",
   "metadata": {
    "origin_pos": 23
   },
   "source": [
    "In the above example, some calls may raise exceptions, such as inserting a string. Ray handles exceptions and prints them, but for safety, you can manually use `try/except` when calling these remote class member methods:"
   ]
  },
  {
   "cell_type": "code",
   "execution_count": 13,
   "id": "6e0eb163",
   "metadata": {},
   "outputs": [
    {
     "name": "stdout",
     "output_type": "stream",
     "text": [
      "\u001b[36m(Ranking pid=93896)\u001b[0m The data type of score should be float but we receive <class 'str'>.\n",
      "\u001b[36mray::Ranking.pop()\u001b[39m (pid=93896, ip=127.0.0.1, actor_id=d61a503564d89fed72678f3b01000000, repr=<__main__.Ranking object at 0x107c62310>)\n",
      "           ^^^^^^^^^^^^^^^^^^^^^^^^^^^^^^^^^^^^\n",
      "           ^^^^^^^^^^^^^^^^^^^^^^^^^^^^^^^\n",
      "  File \"/var/folders/4n/v40br47s46ggrjm9bdm64lwh0000gn/T/ipykernel_93860/1570506600.py\", line 29, in pop\n",
      "Exception: The board is empty.\n"
     ]
    }
   ],
   "source": [
    "try:\n",
    "    ray.get(ranking.pop.remote())\n",
    "    ray.get(ranking.pop.remote())\n",
    "    ray.get(ranking.pop.remote())\n",
    "except Exception as e:\n",
    "    print(e)"
   ]
  },
  {
   "cell_type": "markdown",
   "id": "25814b1f",
   "metadata": {},
   "source": [
    "## Example 3: Actor Pool\n",
    "\n",
    "In practice, it's common to create an ([`ActorPool`](https://docs.ray.io/en/latest/ray-core/api/doc/ray.util.ActorPool.html)). An `ActorPool` is somewhat similar to `multiprocessing.Pool`. It contains multiple actors, each with the same functionality, and can be efficiently distributed across multiple computing nodes."
   ]
  },
  {
   "cell_type": "code",
   "execution_count": 14,
   "id": "f9cc6e68",
   "metadata": {
    "execution": {
     "iopub.execute_input": "2023-08-14T10:28:36.528912Z",
     "iopub.status.busy": "2023-08-14T10:28:36.528519Z",
     "iopub.status.idle": "2023-08-14T10:28:36.544643Z",
     "shell.execute_reply": "2023-08-14T10:28:36.543485Z"
    },
    "origin_pos": 24,
    "tab": [
     "ray"
    ]
   },
   "outputs": [],
   "source": [
    "from ray.util import ActorPool\n",
    "\n",
    "\n",
    "@ray.remote\n",
    "class PoolActor:\n",
    "    def add(self, operands):\n",
    "        (a, b) = operands\n",
    "        return a + b\n",
    "\n",
    "    def double(self, operand):\n",
    "        return operand * 2\n",
    "\n",
    "# add the created Actors to the ActorPool\n",
    "a1, a2, a3 = PoolActor.remote(), PoolActor.remote(), PoolActor.remote()\n",
    "pool = ActorPool([a1, a2, a3])"
   ]
  },
  {
   "cell_type": "markdown",
   "id": "8cc35760",
   "metadata": {
    "origin_pos": 25
   },
   "source": [
    "If we want to call the actors added to the `ActorPool`, we can use the [`map(fn, values)`](https://docs.ray.io/en/latest/ray-core/api/doc/ray.util.ActorPool.map.html) and [`submit(fn, value)`](https://docs.ray.io/en/latest/ray-core/api/doc/ray.util.ActorPool.submit.html) methods. These two methods are quite similar, taking a function `fn` and either a parameter `value` or a list of parameters `values`. `map()` takes a list of values, distributing the function in parallel to multiple actors for processing, while `submit()` takes a single value, selecting an actor from the `ActorPool` to execute the function. `fn` is a lambda expression or an anonymous function. This lambda expression has two parameters: `actor` and `value`. `actor` is the function call of an individual actor that we defined, and `value` is the parameter for this function.\n",
    "\n",
    "The first parameter of the function is the actor in the `ActorPool`, and the second parameter is the function's argument."
   ]
  },
  {
   "cell_type": "code",
   "execution_count": 15,
   "id": "369c4bcb",
   "metadata": {
    "execution": {
     "iopub.execute_input": "2023-08-14T10:28:36.550245Z",
     "iopub.status.busy": "2023-08-14T10:28:36.549752Z",
     "iopub.status.idle": "2023-08-14T10:28:36.557383Z",
     "shell.execute_reply": "2023-08-14T10:28:36.555979Z"
    },
    "origin_pos": 26,
    "tab": [
     "ray"
    ]
   },
   "outputs": [],
   "source": [
    "pool.map(lambda a, v: a.double.remote(v), [3, 4, 5, 4])\n",
    "\n",
    "pool.submit(lambda a, v: a.double.remote(v), 3)\n",
    "pool.submit(lambda a, v: a.double.remote(v), 4)"
   ]
  },
  {
   "cell_type": "markdown",
   "id": "051cb351",
   "metadata": {
    "origin_pos": 27
   },
   "source": [
    "`map()` and `submit()` submit the computation tasks to the `ActorPool`. The `ActorPool` doesn't directly return the results but asynchronously distributes them to different actors in the background. [`get_next()`](https://docs.ray.io/en/latest/ray-core/api/doc/ray.util.ActorPool.get_next.html) can retrieve the results in a blocking manner."
   ]
  },
  {
   "cell_type": "code",
   "execution_count": 16,
   "id": "a957c593",
   "metadata": {
    "execution": {
     "iopub.execute_input": "2023-08-14T10:28:36.562816Z",
     "iopub.status.busy": "2023-08-14T10:28:36.562397Z",
     "iopub.status.idle": "2023-08-14T10:28:37.472619Z",
     "shell.execute_reply": "2023-08-14T10:28:37.471924Z"
    },
    "origin_pos": 28,
    "tab": [
     "ray"
    ]
   },
   "outputs": [
    {
     "name": "stdout",
     "output_type": "stream",
     "text": [
      "6\n",
      "8\n",
      "10\n"
     ]
    }
   ],
   "source": [
    "try:\n",
    "    print(pool.get_next())\n",
    "    print(pool.get_next())\n",
    "    print(pool.get_next())\n",
    "except Exception as e:\n",
    "    print(e)"
   ]
  },
  {
   "cell_type": "markdown",
   "id": "0b37047d",
   "metadata": {
    "origin_pos": 29
   },
   "source": [
    "If all results have already been retrieved and an additional `get_next()` is attempted, an exception will be thrown.\n",
    "\n",
    "Here, the `value` parameter of the `submit()` must be a single object and cannot be a parameter list. If you want to pass multiple parameters, you can wrap them in a tuple. For example, if the `add()` method performs a calculation on two operands, we can wrap the two operands into a tuple. When implementing the `add()` function, use `(a, b) = operands` to unpack this tuple.\n",
    "\n",
    "\n",
    "当然，如果已经把所有结果都取回，仍然再去 `get_next()`，将会抛出异常。\n",
    "\n",
    "在这里，`value` 只能是单个对象，不能是参数列表，如果想传入多个参数，可以把参数包裹成元组。比如 `add()` 方法对两个操作数做计算，我们把两个操作数包裹为一个元组，实现 `add()` 函数时使用 `(a, b) = operands` 解析这个元组。"
   ]
  },
  {
   "cell_type": "code",
   "execution_count": 17,
   "id": "b7876c67",
   "metadata": {
    "execution": {
     "iopub.execute_input": "2023-08-14T10:28:37.476115Z",
     "iopub.status.busy": "2023-08-14T10:28:37.475774Z",
     "iopub.status.idle": "2023-08-14T10:28:37.481272Z",
     "shell.execute_reply": "2023-08-14T10:28:37.480552Z"
    },
    "origin_pos": 30,
    "tab": [
     "ray"
    ]
   },
   "outputs": [
    {
     "name": "stdout",
     "output_type": "stream",
     "text": [
      "8\n"
     ]
    }
   ],
   "source": [
    "pool.submit(lambda a, v: a.add.remote(v), (1, 10))\n",
    "print(pool.get_next())"
   ]
  },
  {
   "cell_type": "code",
   "execution_count": 18,
   "id": "2eaf995d",
   "metadata": {
    "execution": {
     "iopub.execute_input": "2023-08-14T10:28:37.484747Z",
     "iopub.status.busy": "2023-08-14T10:28:37.484421Z",
     "iopub.status.idle": "2023-08-14T10:28:39.961418Z",
     "shell.execute_reply": "2023-08-14T10:28:39.960376Z"
    },
    "origin_pos": 31,
    "tab": [
     "ray"
    ],
    "tags": [
     "hide-output"
    ]
   },
   "outputs": [],
   "source": [
    "ray.shutdown()"
   ]
  },
  {
   "cell_type": "markdown",
   "id": "c4fd91e2",
   "metadata": {},
   "source": [
    "<!-- ```{bibliography}\n",
    "``` -->"
   ]
  }
 ],
 "metadata": {
  "kernelspec": {
   "display_name": "tpch",
   "language": "python",
   "name": "python3"
  },
  "language_info": {
   "codemirror_mode": {
    "name": "ipython",
    "version": 3
   },
   "file_extension": ".py",
   "mimetype": "text/x-python",
   "name": "python",
   "nbconvert_exporter": "python",
   "pygments_lexer": "ipython3",
   "version": "3.11.7"
  },
  "required_libs": []
 },
 "nbformat": 4,
 "nbformat_minor": 5
}

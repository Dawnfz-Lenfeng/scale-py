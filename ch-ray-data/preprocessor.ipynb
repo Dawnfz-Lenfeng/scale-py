{
 "cells": [
  {
   "cell_type": "markdown",
   "metadata": {},
   "source": [
    "(ray-data-preprocessor)=\n",
    "# Preprocessor\n",
    "\n",
    "{numref}`ray-data-transform` 介绍了通用接口 `map()` 和 `map_batches()`。对于结构化的表格类数据，Ray Data 在 `map()` 和 `map_batches()` 基础上，增加了一个高阶的 API：预处理器（Preprocessor）。Preprocessor 是一系列特征处理可与机器学习模型训练和推理更好地结合。对于非结构化数据，比如图片、视频等，仍然建议使用 `map()` 或者 `map_batches()`。\n",
    "\n",
    "\n"
   ]
  }
 ],
 "metadata": {
  "language_info": {
   "name": "python"
  }
 },
 "nbformat": 4,
 "nbformat_minor": 2
}
